{
 "cells": [
  {
   "cell_type": "code",
   "execution_count": 6,
   "id": "c68a9f66-e87e-4c4a-8af6-4f9fe3267f18",
   "metadata": {},
   "outputs": [
    {
     "name": "stdout",
     "output_type": "stream",
     "text": [
      "Series from list is:\n",
      " 0    10\n",
      "1    20\n",
      "2    30\n",
      "3    40\n",
      "4    50\n",
      "5    60\n",
      "dtype: int64\n"
     ]
    }
   ],
   "source": [
    "#Creating series from a list\n",
    "import pandas as pd\n",
    "\n",
    "data_list = [10, 20, 30, 40,50, 60]\n",
    "series_from_list = pd.Series(data_list)\n",
    "print(\"Series from list is:\\n\", series_from_list)"
   ]
  },
  {
   "cell_type": "code",
   "execution_count": 7,
   "id": "bdb98f5f-268a-4288-899f-f0f383cdaa7b",
   "metadata": {},
   "outputs": [
    {
     "name": "stdout",
     "output_type": "stream",
     "text": [
      "Apple     12\n",
      "Banana    10\n",
      "Cherry     5\n",
      "dtype: int64\n"
     ]
    }
   ],
   "source": [
    "#Creating a series from dictionaries\n",
    "data_list = {\n",
    "    \"Apple\": 12,\n",
    "    \"Banana\": 10,\n",
    "    \"Cherry\": 5\n",
    "}\n",
    "\n",
    "series_from_dict = pd.Series(data_list)\n",
    "print(series_from_dict)"
   ]
  },
  {
   "cell_type": "code",
   "execution_count": 8,
   "id": "14289307-96e6-4b66-b183-bebf7a5d5710",
   "metadata": {},
   "outputs": [
    {
     "name": "stdout",
     "output_type": "stream",
     "text": [
      "0    120\n",
      "1    230\n",
      "2    304\n",
      "3    450\n",
      "4    500\n",
      "dtype: int64\n"
     ]
    }
   ],
   "source": [
    "#Creating a series from a numpy array\n",
    "import numpy as np\n",
    "\n",
    "data_array = ([120, 230, 304, 450, 500])\n",
    "series_from_array = pd.Series(data_array)\n",
    "\n",
    "print(series_from_array)"
   ]
  },
  {
   "cell_type": "code",
   "execution_count": 16,
   "id": "00cf323d-28e2-4af7-aa35-f0a186a767dc",
   "metadata": {},
   "outputs": [
    {
     "name": "stdout",
     "output_type": "stream",
     "text": [
      "25\n",
      "30\n"
     ]
    }
   ],
   "source": [
    "data_list = [5, 10, 15, 20, 25, 30]\n",
    "series_from_list = pd.Series(data_list)\n",
    "\n",
    "#Accessing the values using integer as index\n",
    "print(series_from_list[4])\n",
    "print(series_from_list[5])"
   ]
  },
  {
   "cell_type": "code",
   "execution_count": 19,
   "id": "60358d94-d9e6-48d3-bd54-b6d9ea96ea9c",
   "metadata": {},
   "outputs": [
    {
     "name": "stdout",
     "output_type": "stream",
     "text": [
      "5\n",
      "15\n"
     ]
    }
   ],
   "source": [
    "#Accessing values with label\n",
    "series_with_labels = pd.Series(data_list, index = ['a', 'b', 'c', 'd', 'e', 'f'])\n",
    "print(series_with_labels['a'])\n",
    "print(series_with_labels['c'])"
   ]
  },
  {
   "cell_type": "code",
   "execution_count": 20,
   "id": "b5497354-d15c-4979-b1b2-51ad81ed680d",
   "metadata": {},
   "outputs": [
    {
     "name": "stdout",
     "output_type": "stream",
     "text": [
      "[ 5 10 15 20 25 30]\n",
      "\n",
      "Index(['a', 'b', 'c', 'd', 'e', 'f'], dtype='object')\n"
     ]
    }
   ],
   "source": [
    "#Getting the values if the series\n",
    "print(series_from_list.values)\n",
    "print()\n",
    "#Getting the index from series\n",
    "print(series_with_labels.index)"
   ]
  },
  {
   "cell_type": "code",
   "execution_count": 21,
   "id": "7d8c4c4d-8319-4d92-8730-b609d53f0a61",
   "metadata": {},
   "outputs": [
    {
     "name": "stdout",
     "output_type": "stream",
     "text": [
      "   A   B   C\n",
      "0  1  20  98\n",
      "1  2  30  30\n",
      "2  3  40  40\n",
      "3  4  50  50\n"
     ]
    }
   ],
   "source": [
    "#Creating a dataFrame\n",
    "import pandas as pd\n",
    "\n",
    "data_dict = {\n",
    "    \"A\":[1, 2, 3, 4],\n",
    "    \"B\":[20, 30, 40, 50],\n",
    "    \"C\":[98, 30, 40, 50]\n",
    "}\n",
    "\n",
    "df_from_dict = pd.DataFrame(data_dict)\n",
    "print(df_from_dict)"
   ]
  },
  {
   "cell_type": "code",
   "execution_count": 22,
   "id": "9ea58abe-441a-495a-815a-a333dcc39c0c",
   "metadata": {},
   "outputs": [
    {
     "name": "stdout",
     "output_type": "stream",
     "text": [
      "   A   B   C\n",
      "0  1  20  98\n",
      "1  2  30  30\n",
      "2  3  40  40\n",
      "3  4  50  50\n"
     ]
    }
   ],
   "source": [
    "#Creating a DataFrame from a list of dictionaries\n",
    "data_list_of_dict = [\n",
    "    {\"A\":1 , \"B\": 2, \"C\": 3},\n",
    "    {\"A\":20, \"B\":30, \"C\":40},\n",
    "    {\"A\":45, \"B\":34, \"C\":70}\n",
    "]\n",
    "\n",
    "df_from_list_df_dict = pd.DataFrame(data_dict)\n",
    "print(df_from_list_df_dict)"
   ]
  },
  {
   "cell_type": "code",
   "execution_count": 23,
   "id": "e3b4640c-8104-4d8e-94dd-bd4bdc86af96",
   "metadata": {},
   "outputs": [
    {
     "name": "stdout",
     "output_type": "stream",
     "text": [
      "    A   B    C\n",
      "0  10  50   90\n",
      "1  20  60  100\n",
      "2  30  70  110\n",
      "3  40  80  120\n"
     ]
    }
   ],
   "source": [
    "#Create a DataFrame from multuiple series\n",
    "series_A = pd.Series([10, 20, 30, 40])\n",
    "series_B = pd.Series([50, 60, 70, 80])\n",
    "series_C = pd.Series([90, 100, 110, 120])\n",
    "\n",
    "df_from_series = pd.DataFrame({\n",
    "    \"A\": series_A,\n",
    "    \"B\": series_B,\n",
    "    \"C\": series_C\n",
    "})\n",
    "\n",
    "print(df_from_series)"
   ]
  },
  {
   "cell_type": "code",
   "execution_count": 27,
   "id": "58042fc0-3a07-472f-a171-9aadff7461da",
   "metadata": {},
   "outputs": [
    {
     "name": "stdout",
     "output_type": "stream",
     "text": [
      "    0    1    2\n",
      "0   1   10   20\n",
      "1  20   30   40\n",
      "2  50   50   70\n",
      "3  90  100  200\n"
     ]
    }
   ],
   "source": [
    "#Create a DataFrame from NumPy array\n",
    "import numpy as np\n",
    "\n",
    "data_array = np.array([\n",
    "    [1, 10, 20],\n",
    "    [20, 30, 40],\n",
    "    [50, 50, 70],\n",
    "    [90, 100, 200]\n",
    "])\n",
    "\n",
    "df_data_array = pd.DataFrame(data_array)\n",
    "print(df_data_array)"
   ]
  },
  {
   "cell_type": "code",
   "execution_count": 28,
   "id": "6e80f75d-b30a-441c-a687-bed224eb1bc3",
   "metadata": {},
   "outputs": [
    {
     "name": "stdout",
     "output_type": "stream",
     "text": [
      "(4, 3)\n",
      "RangeIndex(start=0, stop=3, step=1)\n",
      "RangeIndex(start=0, stop=4, step=1)\n"
     ]
    }
   ],
   "source": [
    "#Display the structure of the DataFrame\n",
    "print(df_data_array.shape)\n",
    "print(df_data_array.columns)\n",
    "print(df_data_array.index)"
   ]
  },
  {
   "cell_type": "code",
   "execution_count": null,
   "id": "76d294fb-3bde-4fe3-b4f9-7a24ef520931",
   "metadata": {},
   "outputs": [],
   "source": []
  }
 ],
 "metadata": {
  "kernelspec": {
   "display_name": "Python 3 (ipykernel)",
   "language": "python",
   "name": "python3"
  },
  "language_info": {
   "codemirror_mode": {
    "name": "ipython",
    "version": 3
   },
   "file_extension": ".py",
   "mimetype": "text/x-python",
   "name": "python",
   "nbconvert_exporter": "python",
   "pygments_lexer": "ipython3",
   "version": "3.11.7"
  }
 },
 "nbformat": 4,
 "nbformat_minor": 5
}
