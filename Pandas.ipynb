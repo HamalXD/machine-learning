{
 "cells": [
  {
   "cell_type": "code",
   "execution_count": 6,
   "id": "c68a9f66-e87e-4c4a-8af6-4f9fe3267f18",
   "metadata": {},
   "outputs": [
    {
     "name": "stdout",
     "output_type": "stream",
     "text": [
      "Series from list is:\n",
      " 0    10\n",
      "1    20\n",
      "2    30\n",
      "3    40\n",
      "4    50\n",
      "5    60\n",
      "dtype: int64\n"
     ]
    }
   ],
   "source": [
    "#Creating series from a list\n",
    "import pandas as pd\n",
    "\n",
    "data_list = [10, 20, 30, 40,50, 60]\n",
    "series_from_list = pd.Series(data_list)\n",
    "print(\"Series from list is:\\n\", series_from_list)"
   ]
  },
  {
   "cell_type": "code",
   "execution_count": 7,
   "id": "bdb98f5f-268a-4288-899f-f0f383cdaa7b",
   "metadata": {},
   "outputs": [
    {
     "name": "stdout",
     "output_type": "stream",
     "text": [
      "Apple     12\n",
      "Banana    10\n",
      "Cherry     5\n",
      "dtype: int64\n"
     ]
    }
   ],
   "source": [
    "#Creating a series from dictionaries\n",
    "data_list = {\n",
    "    \"Apple\": 12,\n",
    "    \"Banana\": 10,\n",
    "    \"Cherry\": 5\n",
    "}\n",
    "\n",
    "series_from_dict = pd.Series(data_list)\n",
    "print(series_from_dict)"
   ]
  },
  {
   "cell_type": "code",
   "execution_count": 8,
   "id": "14289307-96e6-4b66-b183-bebf7a5d5710",
   "metadata": {},
   "outputs": [
    {
     "name": "stdout",
     "output_type": "stream",
     "text": [
      "0    120\n",
      "1    230\n",
      "2    304\n",
      "3    450\n",
      "4    500\n",
      "dtype: int64\n"
     ]
    }
   ],
   "source": [
    "#Creating a series from a numpy array\n",
    "import numpy as np\n",
    "\n",
    "data_array = ([120, 230, 304, 450, 500])\n",
    "series_from_array = pd.Series(data_array)\n",
    "\n",
    "print(series_from_array)"
   ]
  },
  {
   "cell_type": "code",
   "execution_count": 16,
   "id": "00cf323d-28e2-4af7-aa35-f0a186a767dc",
   "metadata": {},
   "outputs": [
    {
     "name": "stdout",
     "output_type": "stream",
     "text": [
      "25\n",
      "30\n"
     ]
    }
   ],
   "source": [
    "data_list = [5, 10, 15, 20, 25, 30]\n",
    "series_from_list = pd.Series(data_list)\n",
    "\n",
    "#Accessing the values using integer as index\n",
    "print(series_from_list[4])\n",
    "print(series_from_list[5])"
   ]
  },
  {
   "cell_type": "code",
   "execution_count": 19,
   "id": "60358d94-d9e6-48d3-bd54-b6d9ea96ea9c",
   "metadata": {},
   "outputs": [
    {
     "name": "stdout",
     "output_type": "stream",
     "text": [
      "5\n",
      "15\n"
     ]
    }
   ],
   "source": [
    "#Accessing values with label\n",
    "series_with_labels = pd.Series(data_list, index = ['a', 'b', 'c', 'd', 'e', 'f'])\n",
    "print(series_with_labels['a'])\n",
    "print(series_with_labels['c'])"
   ]
  },
  {
   "cell_type": "code",
   "execution_count": 20,
   "id": "b5497354-d15c-4979-b1b2-51ad81ed680d",
   "metadata": {},
   "outputs": [
    {
     "name": "stdout",
     "output_type": "stream",
     "text": [
      "[ 5 10 15 20 25 30]\n",
      "\n",
      "Index(['a', 'b', 'c', 'd', 'e', 'f'], dtype='object')\n"
     ]
    }
   ],
   "source": [
    "#Getting the values if the series\n",
    "print(series_from_list.values)\n",
    "print()\n",
    "#Getting the index from series\n",
    "print(series_with_labels.index)"
   ]
  },
  {
   "cell_type": "code",
   "execution_count": 21,
   "id": "7d8c4c4d-8319-4d92-8730-b609d53f0a61",
   "metadata": {},
   "outputs": [
    {
     "name": "stdout",
     "output_type": "stream",
     "text": [
      "   A   B   C\n",
      "0  1  20  98\n",
      "1  2  30  30\n",
      "2  3  40  40\n",
      "3  4  50  50\n"
     ]
    }
   ],
   "source": [
    "#Creating a dataFrame\n",
    "import pandas as pd\n",
    "\n",
    "data_dict = {\n",
    "    \"A\":[1, 2, 3, 4],\n",
    "    \"B\":[20, 30, 40, 50],\n",
    "    \"C\":[98, 30, 40, 50]\n",
    "}\n",
    "\n",
    "df_from_dict = pd.DataFrame(data_dict)\n",
    "print(df_from_dict)"
   ]
  },
  {
   "cell_type": "code",
   "execution_count": 22,
   "id": "9ea58abe-441a-495a-815a-a333dcc39c0c",
   "metadata": {},
   "outputs": [
    {
     "name": "stdout",
     "output_type": "stream",
     "text": [
      "   A   B   C\n",
      "0  1  20  98\n",
      "1  2  30  30\n",
      "2  3  40  40\n",
      "3  4  50  50\n"
     ]
    }
   ],
   "source": [
    "#Creating a DataFrame from a list of dictionaries\n",
    "data_list_of_dict = [\n",
    "    {\"A\":1 , \"B\": 2, \"C\": 3},\n",
    "    {\"A\":20, \"B\":30, \"C\":40},\n",
    "    {\"A\":45, \"B\":34, \"C\":70}\n",
    "]\n",
    "\n",
    "df_from_list_df_dict = pd.DataFrame(data_dict)\n",
    "print(df_from_list_df_dict)"
   ]
  },
  {
   "cell_type": "code",
   "execution_count": 23,
   "id": "e3b4640c-8104-4d8e-94dd-bd4bdc86af96",
   "metadata": {},
   "outputs": [
    {
     "name": "stdout",
     "output_type": "stream",
     "text": [
      "    A   B    C\n",
      "0  10  50   90\n",
      "1  20  60  100\n",
      "2  30  70  110\n",
      "3  40  80  120\n"
     ]
    }
   ],
   "source": [
    "#Create a DataFrame from multuiple series\n",
    "series_A = pd.Series([10, 20, 30, 40])\n",
    "series_B = pd.Series([50, 60, 70, 80])\n",
    "series_C = pd.Series([90, 100, 110, 120])\n",
    "\n",
    "df_from_series = pd.DataFrame({\n",
    "    \"A\": series_A,\n",
    "    \"B\": series_B,\n",
    "    \"C\": series_C\n",
    "})\n",
    "\n",
    "print(df_from_series)"
   ]
  },
  {
   "cell_type": "code",
   "execution_count": 4,
   "id": "58042fc0-3a07-472f-a171-9aadff7461da",
   "metadata": {},
   "outputs": [
    {
     "name": "stdout",
     "output_type": "stream",
     "text": [
      "    A    B    C\n",
      "0   1   10   20\n",
      "1  20   30   40\n",
      "2  50   50   70\n",
      "3  90  100  200\n"
     ]
    }
   ],
   "source": [
    "#Create a DataFrame from NumPy array\n",
    "import numpy as np\n",
    "\n",
    "data_array = np.array([\n",
    "    [1, 10, 20],\n",
    "    [20, 30, 40],\n",
    "    [50, 50, 70],\n",
    "    [90, 100, 200]\n",
    "])\n",
    "\n",
    "df_data_array = pd.DataFrame(data_array, columns = [\"A\", \"B\", \"C\"])\n",
    "print(df_data_array)"
   ]
  },
  {
   "cell_type": "code",
   "execution_count": 28,
   "id": "6e80f75d-b30a-441c-a687-bed224eb1bc3",
   "metadata": {},
   "outputs": [
    {
     "name": "stdout",
     "output_type": "stream",
     "text": [
      "(4, 3)\n",
      "RangeIndex(start=0, stop=3, step=1)\n",
      "RangeIndex(start=0, stop=4, step=1)\n"
     ]
    }
   ],
   "source": [
    "#Display the structure of the DataFrame\n",
    "print(df_data_array.shape)\n",
    "print(df_data_array.columns)\n",
    "print(df_data_array.index)"
   ]
  },
  {
   "cell_type": "code",
   "execution_count": 7,
   "id": "28611aad-2702-4ab3-811a-d99327c2dddb",
   "metadata": {},
   "outputs": [
    {
     "name": "stdout",
     "output_type": "stream",
     "text": [
      "0     1\n",
      "1    20\n",
      "2    50\n",
      "3    90\n",
      "Name: A, dtype: int32\n",
      "\n",
      "    A    C\n",
      "0   1   20\n",
      "1  20   40\n",
      "2  50   70\n",
      "3  90  200\n"
     ]
    }
   ],
   "source": [
    "#Accessing the data using columns names\n",
    "print(df_data_array[\"A\"])\n",
    "print()\n",
    "print(df_data_array[[\"A\", \"C\"]])"
   ]
  },
  {
   "cell_type": "code",
   "execution_count": 10,
   "id": "8e8c6856-2fa9-488b-9102-3abed46d8f87",
   "metadata": {},
   "outputs": [
    {
     "name": "stdout",
     "output_type": "stream",
     "text": [
      "A     1\n",
      "B    10\n",
      "C    20\n",
      "Name: 0, dtype: int32\n",
      "\n",
      "A    20\n",
      "B    30\n",
      "C    40\n",
      "Name: 1, dtype: int32\n",
      "\n",
      "    A   B   C\n",
      "0   1  10  20\n",
      "1  20  30  40\n",
      "\n",
      "    A   B   C\n",
      "0   1  10  20\n",
      "1  20  30  40\n",
      "2  50  50  70\n",
      "\n"
     ]
    }
   ],
   "source": [
    "#Accesing the data using row label\n",
    "print(df_data_array.iloc[0])\n",
    "print()\n",
    "print(df_data_array.loc[1])\n",
    "print()\n",
    "print(df_data_array.iloc[0:2])\n",
    "print()\n",
    "print(df_data_array.loc[0:2])\n",
    "print()"
   ]
  },
  {
   "cell_type": "code",
   "execution_count": 12,
   "id": "b5c15d39-52e0-43ea-824f-ad781d4eed8e",
   "metadata": {},
   "outputs": [
    {
     "name": "stdout",
     "output_type": "stream",
     "text": [
      "A    int32\n",
      "B    int32\n",
      "C    int32\n",
      "dtype: object\n"
     ]
    }
   ],
   "source": [
    "print(df_data_array.dtypes)"
   ]
  },
  {
   "cell_type": "code",
   "execution_count": 13,
   "id": "6a3dde9f-bd53-450f-9113-a37d1f455ed7",
   "metadata": {},
   "outputs": [
    {
     "name": "stdout",
     "output_type": "stream",
     "text": [
      "    A    B    C    D\n",
      "0   1   10   20  100\n",
      "1  20   30   40  200\n",
      "2  50   50   70  300\n",
      "3  90  100  200  400\n"
     ]
    }
   ],
   "source": [
    "#Adding a one column in the given datasets\n",
    "df_data_array[\"D\"] = [100, 200, 300, 400]\n",
    "print(df_data_array)"
   ]
  },
  {
   "cell_type": "code",
   "execution_count": 14,
   "id": "060bda5b-15b4-4ee1-8be2-2d9e592dc5ae",
   "metadata": {},
   "outputs": [
    {
     "name": "stdout",
     "output_type": "stream",
     "text": [
      "     B    C    D\n",
      "0   10   20  100\n",
      "1   30   40  200\n",
      "2   50   70  300\n",
      "3  100  200  400\n"
     ]
    }
   ],
   "source": [
    "#Dropping a one colum from DataFrame\n",
    "df_data_array = df_data_array.drop(columns = [\"A\"])\n",
    "print(df_data_array)"
   ]
  },
  {
   "cell_type": "code",
   "execution_count": 18,
   "id": "cc8997b8-03c1-46b6-afce-c77eb8ee0540",
   "metadata": {},
   "outputs": [
    {
     "name": "stdout",
     "output_type": "stream",
     "text": [
      "     B    C    D\n",
      "2   50   70  300\n",
      "3  100  200  400\n"
     ]
    }
   ],
   "source": [
    "#Filtering rows based on a conditions \"B\">30\n",
    "filtered_df = df_data_array[df_data_array[\"B\"]>30]\n",
    "print(filtered_df)"
   ]
  },
  {
   "cell_type": "code",
   "execution_count": 21,
   "id": "0e25b52f-047e-4dd3-936b-e2cc0e0cbc5c",
   "metadata": {},
   "outputs": [
    {
     "name": "stdout",
     "output_type": "stream",
     "text": [
      "    A    B    C\n",
      "0   1   10   20\n",
      "1  20   30   40\n",
      "2  50   50   70\n",
      "3  90  100  200\n",
      "\n",
      "0      2\n",
      "1     40\n",
      "2    100\n",
      "3    180\n",
      "Name: A, dtype: int32\n",
      "\n",
      "     A    B\n",
      "0   13   22\n",
      "1   32   42\n",
      "2   62   62\n",
      "3  102  112\n"
     ]
    }
   ],
   "source": [
    "data_array = np.array([\n",
    "    [1, 10, 20],\n",
    "    [20, 30, 40],\n",
    "    [50, 50, 70],\n",
    "    [90, 100, 200]\n",
    "])\n",
    "\n",
    "df_data_array = pd.DataFrame(data_array, columns = [\"A\", \"B\", \"C\"])\n",
    "print(df_data_array)\n",
    "print()\n",
    "\n",
    "#Performing vectorized operations on DataFrame\n",
    "#Series with values in columns \"A\" multiplied by 2\n",
    "print(df_data_array[\"A\"]*2)\n",
    "print()\n",
    "\n",
    "#DataFrame with columns \"A\" and \"B\" incremented by 12\n",
    "print(df_data_array[[\"A\", \"B\"]] + 12)"
   ]
  },
  {
   "cell_type": "code",
   "execution_count": 22,
   "id": "19047c9b-27f3-4569-a39e-2980165f082c",
   "metadata": {},
   "outputs": [
    {
     "name": "stdout",
     "output_type": "stream",
     "text": [
      "Creating a DataFrame with missing data\n",
      "      A     B     C\n",
      "0  10.0  24.0   NaN\n",
      "1  20.0   NaN  21.0\n",
      "2   NaN  35.0  18.0\n",
      "3  40.0  32.0  25.0\n"
     ]
    }
   ],
   "source": [
    "print(\"Creating a DataFrame with missing data\")\n",
    "df_with_nan = pd.DataFrame({\n",
    "    \"A\": [10, 20, None, 40],\n",
    "    \"B\":[24,None, 35, 32],\n",
    "    \"C\":[None, 21, 18, 25]\n",
    "})\n",
    "print(df_with_nan)"
   ]
  },
  {
   "cell_type": "code",
   "execution_count": 29,
   "id": "0baa76f6-45a6-44ce-a242-d194fb76528f",
   "metadata": {},
   "outputs": [
    {
     "name": "stdout",
     "output_type": "stream",
     "text": [
      "Checking for missing data\n",
      "       A      B      C\n",
      "0  False  False   True\n",
      "1  False   True  False\n",
      "2   True  False  False\n",
      "3  False  False  False\n",
      "\n",
      "Removing the missing values:\n",
      "      A     B     C\n",
      "3  40.0  32.0  25.0\n",
      "\n",
      "Filling the missing values:\n",
      "      A     B     C\n",
      "0  10.0  24.0   0.0\n",
      "1  20.0   0.0  21.0\n",
      "2   0.0  35.0  18.0\n",
      "3  40.0  32.0  25.0\n"
     ]
    }
   ],
   "source": [
    "print(\"Checking for missing data\")\n",
    "print(df_with_nan.isnull())\n",
    "\n",
    "print(\"\\nRemoving the missing values:\")\n",
    "print(df_with_nan.dropna())\n",
    "\n",
    "print(\"\\nFilling the missing values:\")\n",
    "print(df_with_nan.fillna(0))"
   ]
  },
  {
   "cell_type": "code",
   "execution_count": 37,
   "id": "f38a22f7-49bf-4c7b-9023-5109964e052d",
   "metadata": {},
   "outputs": [
    {
     "name": "stdout",
     "output_type": "stream",
     "text": [
      "         Date Product  Unit_Sold  Profit\n",
      "0  2024-01-01   Apple       10.0  2000.0\n",
      "1  2024-01-02  Banana        NaN   500.0\n",
      "2  2024-01-03   Apple       15.0     NaN\n",
      "3  2024-01-04  Banana       20.0   800.0\n"
     ]
    }
   ],
   "source": [
    "#Creating a DataFrame with missing values (Sales Data)\n",
    "import pandas as pd\n",
    "\n",
    "#Creating a DataFrame with missing data\n",
    "sales_data = {\n",
    "    \"Date\": [\"2024-01-01\",\"2024-01-02\",\"2024-01-03\",\"2024-01-04\"],\n",
    "    \"Product\": [\"Apple\", \"Banana\", \"Apple\", \"Banana\"],\n",
    "    \"Unit_Sold\": [10, None, 15, 20],\n",
    "    \"Profit\": [2000, 500, None, 800]\n",
    "}\n",
    "\n",
    "df_sales = pd.DataFrame(sales_data)\n",
    "print(df_sales)"
   ]
  },
  {
   "cell_type": "code",
   "execution_count": 39,
   "id": "542affad-3230-46a6-8a54-c4d8efb0c689",
   "metadata": {},
   "outputs": [
    {
     "name": "stdout",
     "output_type": "stream",
     "text": [
      "\n",
      "Checking for missing values\n",
      "    Date  Product  Unit_Sold  Profit\n",
      "0  False    False      False   False\n",
      "1  False    False       True   False\n",
      "2  False    False      False    True\n",
      "3  False    False      False   False\n",
      "\n",
      "Summarizing the missing values\n",
      "Date         0\n",
      "Product      0\n",
      "Unit_Sold    1\n",
      "Profit       1\n",
      "dtype: int64\n",
      "\n",
      "Filling the missing values\n",
      "         Date Product  Unit_Sold  Profit\n",
      "0  2024-01-01   Apple       10.0  2000.0\n",
      "1  2024-01-02  Banana        0.0   500.0\n",
      "2  2024-01-03   Apple       15.0     0.0\n",
      "3  2024-01-04  Banana       20.0   800.0\n"
     ]
    }
   ],
   "source": [
    "print(\"\\nChecking for missing values\")\n",
    "print(df_sales.isnull())\n",
    "\n",
    "print(\"\\nSummarizing the missing values\")\n",
    "print(df_sales.isnull().sum())\n",
    "\n",
    "print(\"\\nFilling the missing values\")\n",
    "print(df_sales.fillna(0))"
   ]
  },
  {
   "cell_type": "code",
   "execution_count": 44,
   "id": "bbebb30d-f688-4f4b-b743-8eb93f843a6e",
   "metadata": {},
   "outputs": [
    {
     "name": "stdout",
     "output_type": "stream",
     "text": [
      "Initial Data:\n"
     ]
    },
    {
     "data": {
      "text/html": [
       "<div>\n",
       "<style scoped>\n",
       "    .dataframe tbody tr th:only-of-type {\n",
       "        vertical-align: middle;\n",
       "    }\n",
       "\n",
       "    .dataframe tbody tr th {\n",
       "        vertical-align: top;\n",
       "    }\n",
       "\n",
       "    .dataframe thead th {\n",
       "        text-align: right;\n",
       "    }\n",
       "</style>\n",
       "<table border=\"1\" class=\"dataframe\">\n",
       "  <thead>\n",
       "    <tr style=\"text-align: right;\">\n",
       "      <th></th>\n",
       "      <th>date</th>\n",
       "      <th>inside_sales</th>\n",
       "      <th>outside_sales</th>\n",
       "      <th>inside_covers</th>\n",
       "      <th>outside_covers</th>\n",
       "      <th>reserved_covers</th>\n",
       "      <th>walkin_covers</th>\n",
       "      <th>waitlist_covers</th>\n",
       "      <th>no_show_covers</th>\n",
       "      <th>no_show_parties</th>\n",
       "      <th>apparent_temperature</th>\n",
       "      <th>humidity</th>\n",
       "      <th>precip_intensity_max</th>\n",
       "      <th>precip_max_time</th>\n",
       "      <th>precip_prob</th>\n",
       "      <th>precip_type</th>\n",
       "      <th>pressure</th>\n",
       "      <th>summary</th>\n",
       "      <th>temperature</th>\n",
       "    </tr>\n",
       "  </thead>\n",
       "  <tbody>\n",
       "    <tr>\n",
       "      <th>0</th>\n",
       "      <td>2017-01-02</td>\n",
       "      <td>13159.84</td>\n",
       "      <td>NaN</td>\n",
       "      <td>174</td>\n",
       "      <td>0</td>\n",
       "      <td>106</td>\n",
       "      <td>26</td>\n",
       "      <td>42</td>\n",
       "      <td>17</td>\n",
       "      <td>6</td>\n",
       "      <td>35.58</td>\n",
       "      <td>0.92</td>\n",
       "      <td>0.0242</td>\n",
       "      <td>15:00:00</td>\n",
       "      <td>0.79</td>\n",
       "      <td>rain</td>\n",
       "      <td>1027.98</td>\n",
       "      <td>rain</td>\n",
       "      <td>39.06</td>\n",
       "    </tr>\n",
       "    <tr>\n",
       "      <th>1</th>\n",
       "      <td>2017-01-03</td>\n",
       "      <td>12442.11</td>\n",
       "      <td>NaN</td>\n",
       "      <td>181</td>\n",
       "      <td>0</td>\n",
       "      <td>119</td>\n",
       "      <td>31</td>\n",
       "      <td>31</td>\n",
       "      <td>14</td>\n",
       "      <td>4</td>\n",
       "      <td>41.50</td>\n",
       "      <td>0.94</td>\n",
       "      <td>0.0913</td>\n",
       "      <td>17:00:00</td>\n",
       "      <td>0.77</td>\n",
       "      <td>rain</td>\n",
       "      <td>1000.08</td>\n",
       "      <td>rain</td>\n",
       "      <td>43.19</td>\n",
       "    </tr>\n",
       "    <tr>\n",
       "      <th>2</th>\n",
       "      <td>2017-01-04</td>\n",
       "      <td>12927.64</td>\n",
       "      <td>NaN</td>\n",
       "      <td>174</td>\n",
       "      <td>0</td>\n",
       "      <td>131</td>\n",
       "      <td>17</td>\n",
       "      <td>26</td>\n",
       "      <td>5</td>\n",
       "      <td>2</td>\n",
       "      <td>36.81</td>\n",
       "      <td>0.40</td>\n",
       "      <td>0.0176</td>\n",
       "      <td>00:00:00</td>\n",
       "      <td>0.00</td>\n",
       "      <td>rain</td>\n",
       "      <td>1002.55</td>\n",
       "      <td>clear-night</td>\n",
       "      <td>42.29</td>\n",
       "    </tr>\n",
       "    <tr>\n",
       "      <th>3</th>\n",
       "      <td>2017-01-05</td>\n",
       "      <td>14457.79</td>\n",
       "      <td>NaN</td>\n",
       "      <td>191</td>\n",
       "      <td>0</td>\n",
       "      <td>138</td>\n",
       "      <td>25</td>\n",
       "      <td>28</td>\n",
       "      <td>4</td>\n",
       "      <td>2</td>\n",
       "      <td>27.11</td>\n",
       "      <td>0.48</td>\n",
       "      <td>0.0000</td>\n",
       "      <td>05:01:00</td>\n",
       "      <td>0.00</td>\n",
       "      <td>none</td>\n",
       "      <td>1014.61</td>\n",
       "      <td>cloudy</td>\n",
       "      <td>31.36</td>\n",
       "    </tr>\n",
       "    <tr>\n",
       "      <th>4</th>\n",
       "      <td>2017-01-06</td>\n",
       "      <td>15331.97</td>\n",
       "      <td>NaN</td>\n",
       "      <td>200</td>\n",
       "      <td>0</td>\n",
       "      <td>130</td>\n",
       "      <td>16</td>\n",
       "      <td>54</td>\n",
       "      <td>6</td>\n",
       "      <td>3</td>\n",
       "      <td>24.74</td>\n",
       "      <td>0.48</td>\n",
       "      <td>0.0019</td>\n",
       "      <td>12:00:00</td>\n",
       "      <td>0.00</td>\n",
       "      <td>snow</td>\n",
       "      <td>1022.80</td>\n",
       "      <td>partly-cloudy-night</td>\n",
       "      <td>29.42</td>\n",
       "    </tr>\n",
       "  </tbody>\n",
       "</table>\n",
       "</div>"
      ],
      "text/plain": [
       "         date  inside_sales  outside_sales  inside_covers  outside_covers  \\\n",
       "0  2017-01-02      13159.84            NaN            174               0   \n",
       "1  2017-01-03      12442.11            NaN            181               0   \n",
       "2  2017-01-04      12927.64            NaN            174               0   \n",
       "3  2017-01-05      14457.79            NaN            191               0   \n",
       "4  2017-01-06      15331.97            NaN            200               0   \n",
       "\n",
       "   reserved_covers  walkin_covers  waitlist_covers  no_show_covers  \\\n",
       "0              106             26               42              17   \n",
       "1              119             31               31              14   \n",
       "2              131             17               26               5   \n",
       "3              138             25               28               4   \n",
       "4              130             16               54               6   \n",
       "\n",
       "   no_show_parties  apparent_temperature  humidity  precip_intensity_max  \\\n",
       "0                6                 35.58      0.92                0.0242   \n",
       "1                4                 41.50      0.94                0.0913   \n",
       "2                2                 36.81      0.40                0.0176   \n",
       "3                2                 27.11      0.48                0.0000   \n",
       "4                3                 24.74      0.48                0.0019   \n",
       "\n",
       "  precip_max_time  precip_prob precip_type  pressure              summary  \\\n",
       "0        15:00:00         0.79        rain   1027.98                 rain   \n",
       "1        17:00:00         0.77        rain   1000.08                 rain   \n",
       "2        00:00:00         0.00        rain   1002.55          clear-night   \n",
       "3        05:01:00         0.00        none   1014.61               cloudy   \n",
       "4        12:00:00         0.00        snow   1022.80  partly-cloudy-night   \n",
       "\n",
       "   temperature  \n",
       "0        39.06  \n",
       "1        43.19  \n",
       "2        42.29  \n",
       "3        31.36  \n",
       "4        29.42  "
      ]
     },
     "execution_count": 44,
     "metadata": {},
     "output_type": "execute_result"
    }
   ],
   "source": [
    "import pandas as pd\n",
    "import numpy as np\n",
    "\n",
    "#Loading the datasets\n",
    "df = pd.read_csv(\"CSV_for_EDA.csv\")\n",
    "\n",
    "#Display the fisrt few rows of datasets\n",
    "print(\"Initial Data:\")\n",
    "df.head()\n"
   ]
  },
  {
   "cell_type": "code",
   "execution_count": 43,
   "id": "f43e80da-18ff-43e3-9d6f-f4ea689b020d",
   "metadata": {},
   "outputs": [
    {
     "name": "stdout",
     "output_type": "stream",
     "text": [
      "\n",
      "Bottom Data:\n"
     ]
    },
    {
     "data": {
      "text/html": [
       "<div>\n",
       "<style scoped>\n",
       "    .dataframe tbody tr th:only-of-type {\n",
       "        vertical-align: middle;\n",
       "    }\n",
       "\n",
       "    .dataframe tbody tr th {\n",
       "        vertical-align: top;\n",
       "    }\n",
       "\n",
       "    .dataframe thead th {\n",
       "        text-align: right;\n",
       "    }\n",
       "</style>\n",
       "<table border=\"1\" class=\"dataframe\">\n",
       "  <thead>\n",
       "    <tr style=\"text-align: right;\">\n",
       "      <th></th>\n",
       "      <th>date</th>\n",
       "      <th>inside_sales</th>\n",
       "      <th>outside_sales</th>\n",
       "      <th>inside_covers</th>\n",
       "      <th>outside_covers</th>\n",
       "      <th>reserved_covers</th>\n",
       "      <th>walkin_covers</th>\n",
       "      <th>waitlist_covers</th>\n",
       "      <th>no_show_covers</th>\n",
       "      <th>no_show_parties</th>\n",
       "      <th>apparent_temperature</th>\n",
       "      <th>humidity</th>\n",
       "      <th>precip_intensity_max</th>\n",
       "      <th>precip_max_time</th>\n",
       "      <th>precip_prob</th>\n",
       "      <th>precip_type</th>\n",
       "      <th>pressure</th>\n",
       "      <th>summary</th>\n",
       "      <th>temperature</th>\n",
       "    </tr>\n",
       "  </thead>\n",
       "  <tbody>\n",
       "    <tr>\n",
       "      <th>893</th>\n",
       "      <td>2019-06-26</td>\n",
       "      <td>12605.00</td>\n",
       "      <td>4487.50</td>\n",
       "      <td>179</td>\n",
       "      <td>67</td>\n",
       "      <td>149</td>\n",
       "      <td>0</td>\n",
       "      <td>97</td>\n",
       "      <td>6</td>\n",
       "      <td>2</td>\n",
       "      <td>84.43</td>\n",
       "      <td>0.43</td>\n",
       "      <td>0.0005</td>\n",
       "      <td>00:00:00</td>\n",
       "      <td>0.00</td>\n",
       "      <td>rain</td>\n",
       "      <td>1015.74</td>\n",
       "      <td>partly-cloudy-day</td>\n",
       "      <td>84.43</td>\n",
       "    </tr>\n",
       "    <tr>\n",
       "      <th>894</th>\n",
       "      <td>2019-06-27</td>\n",
       "      <td>13675.62</td>\n",
       "      <td>5443.00</td>\n",
       "      <td>170</td>\n",
       "      <td>80</td>\n",
       "      <td>143</td>\n",
       "      <td>0</td>\n",
       "      <td>107</td>\n",
       "      <td>5</td>\n",
       "      <td>2</td>\n",
       "      <td>86.09</td>\n",
       "      <td>0.34</td>\n",
       "      <td>0.0001</td>\n",
       "      <td>02:00:00</td>\n",
       "      <td>0.00</td>\n",
       "      <td>none</td>\n",
       "      <td>1019.05</td>\n",
       "      <td>partly-cloudy-day</td>\n",
       "      <td>86.09</td>\n",
       "    </tr>\n",
       "    <tr>\n",
       "      <th>895</th>\n",
       "      <td>2019-06-28</td>\n",
       "      <td>14171.25</td>\n",
       "      <td>6180.50</td>\n",
       "      <td>177</td>\n",
       "      <td>74</td>\n",
       "      <td>145</td>\n",
       "      <td>0</td>\n",
       "      <td>106</td>\n",
       "      <td>12</td>\n",
       "      <td>4</td>\n",
       "      <td>83.09</td>\n",
       "      <td>0.43</td>\n",
       "      <td>0.0000</td>\n",
       "      <td>05:01:00</td>\n",
       "      <td>0.00</td>\n",
       "      <td>none</td>\n",
       "      <td>1019.41</td>\n",
       "      <td>partly-cloudy-day</td>\n",
       "      <td>83.09</td>\n",
       "    </tr>\n",
       "    <tr>\n",
       "      <th>896</th>\n",
       "      <td>2019-06-29</td>\n",
       "      <td>14695.50</td>\n",
       "      <td>5369.75</td>\n",
       "      <td>189</td>\n",
       "      <td>72</td>\n",
       "      <td>135</td>\n",
       "      <td>3</td>\n",
       "      <td>123</td>\n",
       "      <td>10</td>\n",
       "      <td>5</td>\n",
       "      <td>77.17</td>\n",
       "      <td>0.75</td>\n",
       "      <td>0.0571</td>\n",
       "      <td>18:00:00</td>\n",
       "      <td>0.01</td>\n",
       "      <td>rain</td>\n",
       "      <td>1011.84</td>\n",
       "      <td>partly-cloudy-day</td>\n",
       "      <td>76.33</td>\n",
       "    </tr>\n",
       "    <tr>\n",
       "      <th>897</th>\n",
       "      <td>2019-06-30</td>\n",
       "      <td>14073.24</td>\n",
       "      <td>6925.50</td>\n",
       "      <td>221</td>\n",
       "      <td>75</td>\n",
       "      <td>156</td>\n",
       "      <td>2</td>\n",
       "      <td>138</td>\n",
       "      <td>4</td>\n",
       "      <td>1</td>\n",
       "      <td>79.33</td>\n",
       "      <td>0.39</td>\n",
       "      <td>0.0033</td>\n",
       "      <td>16:00:00</td>\n",
       "      <td>0.00</td>\n",
       "      <td>rain</td>\n",
       "      <td>1008.91</td>\n",
       "      <td>partly-cloudy-day</td>\n",
       "      <td>79.33</td>\n",
       "    </tr>\n",
       "  </tbody>\n",
       "</table>\n",
       "</div>"
      ],
      "text/plain": [
       "           date  inside_sales  outside_sales  inside_covers  outside_covers  \\\n",
       "893  2019-06-26      12605.00        4487.50            179              67   \n",
       "894  2019-06-27      13675.62        5443.00            170              80   \n",
       "895  2019-06-28      14171.25        6180.50            177              74   \n",
       "896  2019-06-29      14695.50        5369.75            189              72   \n",
       "897  2019-06-30      14073.24        6925.50            221              75   \n",
       "\n",
       "     reserved_covers  walkin_covers  waitlist_covers  no_show_covers  \\\n",
       "893              149              0               97               6   \n",
       "894              143              0              107               5   \n",
       "895              145              0              106              12   \n",
       "896              135              3              123              10   \n",
       "897              156              2              138               4   \n",
       "\n",
       "     no_show_parties  apparent_temperature  humidity  precip_intensity_max  \\\n",
       "893                2                 84.43      0.43                0.0005   \n",
       "894                2                 86.09      0.34                0.0001   \n",
       "895                4                 83.09      0.43                0.0000   \n",
       "896                5                 77.17      0.75                0.0571   \n",
       "897                1                 79.33      0.39                0.0033   \n",
       "\n",
       "    precip_max_time  precip_prob precip_type  pressure            summary  \\\n",
       "893        00:00:00         0.00        rain   1015.74  partly-cloudy-day   \n",
       "894        02:00:00         0.00        none   1019.05  partly-cloudy-day   \n",
       "895        05:01:00         0.00        none   1019.41  partly-cloudy-day   \n",
       "896        18:00:00         0.01        rain   1011.84  partly-cloudy-day   \n",
       "897        16:00:00         0.00        rain   1008.91  partly-cloudy-day   \n",
       "\n",
       "     temperature  \n",
       "893        84.43  \n",
       "894        86.09  \n",
       "895        83.09  \n",
       "896        76.33  \n",
       "897        79.33  "
      ]
     },
     "execution_count": 43,
     "metadata": {},
     "output_type": "execute_result"
    }
   ],
   "source": [
    "#Display the last few rows of datasetes\n",
    "print(\"\\nBottom Data:\")\n",
    "df.tail()"
   ]
  },
  {
   "cell_type": "code",
   "execution_count": 46,
   "id": "5cbc5912-1f1d-492b-82f6-d6ead6e3f502",
   "metadata": {},
   "outputs": [
    {
     "name": "stdout",
     "output_type": "stream",
     "text": [
      "date                      0\n",
      "inside_sales              0\n",
      "outside_sales           475\n",
      "inside_covers             0\n",
      "outside_covers            0\n",
      "reserved_covers           0\n",
      "walkin_covers             0\n",
      "waitlist_covers           0\n",
      "no_show_covers            0\n",
      "no_show_parties           0\n",
      "apparent_temperature      0\n",
      "humidity                  0\n",
      "precip_intensity_max      0\n",
      "precip_max_time           0\n",
      "precip_prob               0\n",
      "precip_type               0\n",
      "pressure                  0\n",
      "summary                   0\n",
      "temperature               0\n",
      "dtype: int64\n",
      "           date  inside_sales outside_sales  inside_covers  outside_covers  \\\n",
      "0    2017-01-02      13159.84    Empty data            174               0   \n",
      "1    2017-01-03      12442.11    Empty data            181               0   \n",
      "2    2017-01-04      12927.64    Empty data            174               0   \n",
      "3    2017-01-05      14457.79    Empty data            191               0   \n",
      "4    2017-01-06      15331.97    Empty data            200               0   \n",
      "..          ...           ...           ...            ...             ...   \n",
      "893  2019-06-26      12605.00        4487.5            179              67   \n",
      "894  2019-06-27      13675.62        5443.0            170              80   \n",
      "895  2019-06-28      14171.25        6180.5            177              74   \n",
      "896  2019-06-29      14695.50       5369.75            189              72   \n",
      "897  2019-06-30      14073.24        6925.5            221              75   \n",
      "\n",
      "     reserved_covers  walkin_covers  waitlist_covers  no_show_covers  \\\n",
      "0                106             26               42              17   \n",
      "1                119             31               31              14   \n",
      "2                131             17               26               5   \n",
      "3                138             25               28               4   \n",
      "4                130             16               54               6   \n",
      "..               ...            ...              ...             ...   \n",
      "893              149              0               97               6   \n",
      "894              143              0              107               5   \n",
      "895              145              0              106              12   \n",
      "896              135              3              123              10   \n",
      "897              156              2              138               4   \n",
      "\n",
      "     no_show_parties  apparent_temperature  humidity  precip_intensity_max  \\\n",
      "0                  6                 35.58      0.92                0.0242   \n",
      "1                  4                 41.50      0.94                0.0913   \n",
      "2                  2                 36.81      0.40                0.0176   \n",
      "3                  2                 27.11      0.48                0.0000   \n",
      "4                  3                 24.74      0.48                0.0019   \n",
      "..               ...                   ...       ...                   ...   \n",
      "893                2                 84.43      0.43                0.0005   \n",
      "894                2                 86.09      0.34                0.0001   \n",
      "895                4                 83.09      0.43                0.0000   \n",
      "896                5                 77.17      0.75                0.0571   \n",
      "897                1                 79.33      0.39                0.0033   \n",
      "\n",
      "    precip_max_time  precip_prob precip_type  pressure              summary  \\\n",
      "0          15:00:00         0.79        rain   1027.98                 rain   \n",
      "1          17:00:00         0.77        rain   1000.08                 rain   \n",
      "2          00:00:00         0.00        rain   1002.55          clear-night   \n",
      "3          05:01:00         0.00        none   1014.61               cloudy   \n",
      "4          12:00:00         0.00        snow   1022.80  partly-cloudy-night   \n",
      "..              ...          ...         ...       ...                  ...   \n",
      "893        00:00:00         0.00        rain   1015.74    partly-cloudy-day   \n",
      "894        02:00:00         0.00        none   1019.05    partly-cloudy-day   \n",
      "895        05:01:00         0.00        none   1019.41    partly-cloudy-day   \n",
      "896        18:00:00         0.01        rain   1011.84    partly-cloudy-day   \n",
      "897        16:00:00         0.00        rain   1008.91    partly-cloudy-day   \n",
      "\n",
      "     temperature  \n",
      "0          39.06  \n",
      "1          43.19  \n",
      "2          42.29  \n",
      "3          31.36  \n",
      "4          29.42  \n",
      "..           ...  \n",
      "893        84.43  \n",
      "894        86.09  \n",
      "895        83.09  \n",
      "896        76.33  \n",
      "897        79.33  \n",
      "\n",
      "[898 rows x 19 columns]\n"
     ]
    }
   ],
   "source": [
    "#Print checking for missing values,summarizing and filling them\n",
    "print(df.isnull().sum())\n",
    "\n",
    "print(df.fillna(\"Empty data\"))"
   ]
  },
  {
   "cell_type": "code",
   "execution_count": 47,
   "id": "157e461c-743f-4f74-bfb1-898a7a8c7839",
   "metadata": {},
   "outputs": [
    {
     "data": {
      "text/html": [
       "<div>\n",
       "<style scoped>\n",
       "    .dataframe tbody tr th:only-of-type {\n",
       "        vertical-align: middle;\n",
       "    }\n",
       "\n",
       "    .dataframe tbody tr th {\n",
       "        vertical-align: top;\n",
       "    }\n",
       "\n",
       "    .dataframe thead th {\n",
       "        text-align: right;\n",
       "    }\n",
       "</style>\n",
       "<table border=\"1\" class=\"dataframe\">\n",
       "  <thead>\n",
       "    <tr style=\"text-align: right;\">\n",
       "      <th></th>\n",
       "      <th>date</th>\n",
       "      <th>inside_sales</th>\n",
       "      <th>outside_sales</th>\n",
       "      <th>inside_covers</th>\n",
       "      <th>outside_covers</th>\n",
       "      <th>reserved_covers</th>\n",
       "      <th>walkin_covers</th>\n",
       "      <th>waitlist_covers</th>\n",
       "      <th>no_show_covers</th>\n",
       "      <th>no_show_parties</th>\n",
       "      <th>apparent_temperature</th>\n",
       "      <th>humidity</th>\n",
       "      <th>precip_intensity_max</th>\n",
       "      <th>precip_max_time</th>\n",
       "      <th>precip_prob</th>\n",
       "      <th>precip_type</th>\n",
       "      <th>pressure</th>\n",
       "      <th>summary</th>\n",
       "      <th>temperature</th>\n",
       "    </tr>\n",
       "  </thead>\n",
       "  <tbody>\n",
       "    <tr>\n",
       "      <th>0</th>\n",
       "      <td>2017-01-02</td>\n",
       "      <td>13159.84</td>\n",
       "      <td>NaN</td>\n",
       "      <td>174</td>\n",
       "      <td>0</td>\n",
       "      <td>106</td>\n",
       "      <td>26</td>\n",
       "      <td>42</td>\n",
       "      <td>17</td>\n",
       "      <td>6</td>\n",
       "      <td>35.58</td>\n",
       "      <td>0.92</td>\n",
       "      <td>0.0242</td>\n",
       "      <td>15:00:00</td>\n",
       "      <td>0.79</td>\n",
       "      <td>rain</td>\n",
       "      <td>1027.98</td>\n",
       "      <td>rain</td>\n",
       "      <td>39.06</td>\n",
       "    </tr>\n",
       "    <tr>\n",
       "      <th>1</th>\n",
       "      <td>2017-01-03</td>\n",
       "      <td>12442.11</td>\n",
       "      <td>NaN</td>\n",
       "      <td>181</td>\n",
       "      <td>0</td>\n",
       "      <td>119</td>\n",
       "      <td>31</td>\n",
       "      <td>31</td>\n",
       "      <td>14</td>\n",
       "      <td>4</td>\n",
       "      <td>41.50</td>\n",
       "      <td>0.94</td>\n",
       "      <td>0.0913</td>\n",
       "      <td>17:00:00</td>\n",
       "      <td>0.77</td>\n",
       "      <td>rain</td>\n",
       "      <td>1000.08</td>\n",
       "      <td>rain</td>\n",
       "      <td>43.19</td>\n",
       "    </tr>\n",
       "    <tr>\n",
       "      <th>2</th>\n",
       "      <td>2017-01-04</td>\n",
       "      <td>12927.64</td>\n",
       "      <td>NaN</td>\n",
       "      <td>174</td>\n",
       "      <td>0</td>\n",
       "      <td>131</td>\n",
       "      <td>17</td>\n",
       "      <td>26</td>\n",
       "      <td>5</td>\n",
       "      <td>2</td>\n",
       "      <td>36.81</td>\n",
       "      <td>0.40</td>\n",
       "      <td>0.0176</td>\n",
       "      <td>00:00:00</td>\n",
       "      <td>0.00</td>\n",
       "      <td>rain</td>\n",
       "      <td>1002.55</td>\n",
       "      <td>clear-night</td>\n",
       "      <td>42.29</td>\n",
       "    </tr>\n",
       "    <tr>\n",
       "      <th>3</th>\n",
       "      <td>2017-01-05</td>\n",
       "      <td>14457.79</td>\n",
       "      <td>NaN</td>\n",
       "      <td>191</td>\n",
       "      <td>0</td>\n",
       "      <td>138</td>\n",
       "      <td>25</td>\n",
       "      <td>28</td>\n",
       "      <td>4</td>\n",
       "      <td>2</td>\n",
       "      <td>27.11</td>\n",
       "      <td>0.48</td>\n",
       "      <td>0.0000</td>\n",
       "      <td>05:01:00</td>\n",
       "      <td>0.00</td>\n",
       "      <td>none</td>\n",
       "      <td>1014.61</td>\n",
       "      <td>cloudy</td>\n",
       "      <td>31.36</td>\n",
       "    </tr>\n",
       "    <tr>\n",
       "      <th>4</th>\n",
       "      <td>2017-01-06</td>\n",
       "      <td>15331.97</td>\n",
       "      <td>NaN</td>\n",
       "      <td>200</td>\n",
       "      <td>0</td>\n",
       "      <td>130</td>\n",
       "      <td>16</td>\n",
       "      <td>54</td>\n",
       "      <td>6</td>\n",
       "      <td>3</td>\n",
       "      <td>24.74</td>\n",
       "      <td>0.48</td>\n",
       "      <td>0.0019</td>\n",
       "      <td>12:00:00</td>\n",
       "      <td>0.00</td>\n",
       "      <td>snow</td>\n",
       "      <td>1022.80</td>\n",
       "      <td>partly-cloudy-night</td>\n",
       "      <td>29.42</td>\n",
       "    </tr>\n",
       "  </tbody>\n",
       "</table>\n",
       "</div>"
      ],
      "text/plain": [
       "         date  inside_sales  outside_sales  inside_covers  outside_covers  \\\n",
       "0  2017-01-02      13159.84            NaN            174               0   \n",
       "1  2017-01-03      12442.11            NaN            181               0   \n",
       "2  2017-01-04      12927.64            NaN            174               0   \n",
       "3  2017-01-05      14457.79            NaN            191               0   \n",
       "4  2017-01-06      15331.97            NaN            200               0   \n",
       "\n",
       "   reserved_covers  walkin_covers  waitlist_covers  no_show_covers  \\\n",
       "0              106             26               42              17   \n",
       "1              119             31               31              14   \n",
       "2              131             17               26               5   \n",
       "3              138             25               28               4   \n",
       "4              130             16               54               6   \n",
       "\n",
       "   no_show_parties  apparent_temperature  humidity  precip_intensity_max  \\\n",
       "0                6                 35.58      0.92                0.0242   \n",
       "1                4                 41.50      0.94                0.0913   \n",
       "2                2                 36.81      0.40                0.0176   \n",
       "3                2                 27.11      0.48                0.0000   \n",
       "4                3                 24.74      0.48                0.0019   \n",
       "\n",
       "  precip_max_time  precip_prob precip_type  pressure              summary  \\\n",
       "0        15:00:00         0.79        rain   1027.98                 rain   \n",
       "1        17:00:00         0.77        rain   1000.08                 rain   \n",
       "2        00:00:00         0.00        rain   1002.55          clear-night   \n",
       "3        05:01:00         0.00        none   1014.61               cloudy   \n",
       "4        12:00:00         0.00        snow   1022.80  partly-cloudy-night   \n",
       "\n",
       "   temperature  \n",
       "0        39.06  \n",
       "1        43.19  \n",
       "2        42.29  \n",
       "3        31.36  \n",
       "4        29.42  "
      ]
     },
     "execution_count": 47,
     "metadata": {},
     "output_type": "execute_result"
    }
   ],
   "source": [
    "df.head()"
   ]
  },
  {
   "cell_type": "code",
   "execution_count": null,
   "id": "eb595472-2b84-48dd-ba97-6f26a5cd5f1a",
   "metadata": {},
   "outputs": [],
   "source": [
    "#Handle the missing values\n",
    "#Shape, Index, cloumns, Size, Shape"
   ]
  }
 ],
 "metadata": {
  "kernelspec": {
   "display_name": "Python 3 (ipykernel)",
   "language": "python",
   "name": "python3"
  },
  "language_info": {
   "codemirror_mode": {
    "name": "ipython",
    "version": 3
   },
   "file_extension": ".py",
   "mimetype": "text/x-python",
   "name": "python",
   "nbconvert_exporter": "python",
   "pygments_lexer": "ipython3",
   "version": "3.11.7"
  }
 },
 "nbformat": 4,
 "nbformat_minor": 5
}
