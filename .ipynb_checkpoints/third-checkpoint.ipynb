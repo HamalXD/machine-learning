{
 "cells": [
  {
   "cell_type": "code",
   "execution_count": 2,
   "id": "09be4bab-ad59-4dd9-b2d6-ef2d52e5246a",
   "metadata": {},
   "outputs": [
    {
     "name": "stdout",
     "output_type": "stream",
     "text": [
      "\n",
      "Multiple of five:\n",
      "5\n",
      "10\n",
      "15\n",
      "20\n",
      "25\n"
     ]
    }
   ],
   "source": [
    "#Loops with number\n",
    "multiple_of_five = [5, 10, 15, 20, 25]\n",
    "\n",
    "print(\"\\nMultiple of five:\")\n",
    "for num in multiple_of_five:\n",
    "    print(num)"
   ]
  },
  {
   "cell_type": "code",
   "execution_count": 3,
   "id": "81eb550e-9b9f-4222-a18a-c0744be23ba3",
   "metadata": {},
   "outputs": [
    {
     "name": "stdout",
     "output_type": "stream",
     "text": [
      "M\n",
      "y\n",
      " \n",
      "n\n",
      "a\n",
      "m\n",
      "e\n",
      " \n",
      "i\n",
      "s\n",
      " \n",
      "S\n",
      "a\n",
      "m\n",
      "m\n",
      "a\n",
      "n\n",
      " \n",
      "H\n",
      "a\n",
      "m\n",
      "a\n",
      "l\n"
     ]
    }
   ],
   "source": [
    "#Loops with string\n",
    "string = \"My name is Samman Hamal\"\n",
    "for char in string:\n",
    "    print(char)"
   ]
  },
  {
   "cell_type": "code",
   "execution_count": 4,
   "id": "3e1e8992-751f-474c-98b2-d889fa510d9a",
   "metadata": {},
   "outputs": [
    {
     "name": "stdout",
     "output_type": "stream",
     "text": [
      "1\n",
      "2\n",
      "3\n",
      "4\n",
      "5\n",
      "6\n",
      "7\n",
      "8\n",
      "9\n"
     ]
    }
   ],
   "source": [
    "#Range\n",
    "for i in range(1,10):\n",
    "    print(i)"
   ]
  },
  {
   "cell_type": "code",
   "execution_count": 6,
   "id": "00562f52-9d0b-48aa-8484-77eb6ca430d9",
   "metadata": {},
   "outputs": [
    {
     "name": "stdout",
     "output_type": "stream",
     "text": [
      "0\n",
      "2\n",
      "4\n",
      "6\n",
      "8\n",
      "10\n"
     ]
    }
   ],
   "source": [
    "#Even number from 1 to 10\n",
    "for i in range(0,11,2):\n",
    "    print(i)"
   ]
  },
  {
   "cell_type": "code",
   "execution_count": 21,
   "id": "0b819eb6-3066-4dc3-80f5-f5828c4c2004",
   "metadata": {},
   "outputs": [
    {
     "name": "stdout",
     "output_type": "stream",
     "text": [
      "19\n",
      "17\n",
      "15\n",
      "13\n",
      "11\n"
     ]
    }
   ],
   "source": [
    "#Odd number from 1 to 10 and 20-11\n",
    "for i in range (1,11,2):\n",
    "   print(i)\n",
    "\n",
    "for i in range (19,10,-2):\n",
    "    print(i)"
   ]
  },
  {
   "cell_type": "code",
   "execution_count": 22,
   "id": "c581509d-a951-4822-87e8-ba2938231bea",
   "metadata": {},
   "outputs": [
    {
     "name": "stdout",
     "output_type": "stream",
     "text": [
      "KGF : 9\n",
      "Inception : 16\n",
      "Beaking Bad : 9\n"
     ]
    }
   ],
   "source": [
    "#Dictionaries\n",
    "fav_movie ={\n",
    "    \"KGF\":9,\n",
    "    \"Inception\": 16,\n",
    "    \"Beaking Bad\": 9\n",
    "}\n",
    "\n",
    "for key,value in fav_movie.items():\n",
    "    print(key, \":\", value)"
   ]
  },
  {
   "cell_type": "code",
   "execution_count": 23,
   "id": "232320df-3e52-48ef-88b1-57f9eb86dc71",
   "metadata": {},
   "outputs": [
    {
     "name": "stdout",
     "output_type": "stream",
     "text": [
      "\n",
      "Elements of Fruits Tuple:\n",
      "('Apple', 10)\n",
      "('Banana', 12)\n",
      "('Cherry', 15)\n"
     ]
    }
   ],
   "source": [
    "#Loops with tuple\n",
    "fruits = [(\"Apple\",10), (\"Banana\", 12), (\"Cherry\", 15)]\n",
    "print(\"\\nElements of Fruits Tuple:\")\n",
    "for item in fruits:\n",
    "    print(item)"
   ]
  },
  {
   "cell_type": "code",
   "execution_count": 25,
   "id": "2717c536-ac02-461e-b494-22030887ff8a",
   "metadata": {},
   "outputs": [
    {
     "name": "stdout",
     "output_type": "stream",
     "text": [
      "Character: Apple | Quantity: 10\n",
      "Character: Banana | Quantity: 12\n",
      "Character: Cherry | Quantity: 15\n"
     ]
    }
   ],
   "source": [
    "#Seperate each element from tuple fruits\n",
    "for char,num in fruits:\n",
    "    print(\"Character:\", char, \"| Quantity:\", num)"
   ]
  },
  {
   "cell_type": "code",
   "execution_count": 1,
   "id": "0c3232f2-a3ae-4426-97b6-9531a7e22687",
   "metadata": {},
   "outputs": [
    {
     "name": "stdout",
     "output_type": "stream",
     "text": [
      "1\n",
      "2\n",
      "3\n",
      "4\n",
      "5\n",
      "6\n",
      "7\n",
      "8\n",
      "9\n",
      "10\n"
     ]
    }
   ],
   "source": [
    "#While loops\n",
    "count = 1 \n",
    "while count <=10:\n",
    "    print(count)\n",
    "    count += 1"
   ]
  },
  {
   "cell_type": "code",
   "execution_count": 2,
   "id": "0000037a-8708-4b07-8d79-80059df31ce9",
   "metadata": {},
   "outputs": [
    {
     "name": "stdout",
     "output_type": "stream",
     "text": [
      "\n",
      "The sum of the numbers from 1 to 10 is: 1\n",
      "\n",
      "The sum of the numbers from 1 to 10 is: 3\n",
      "\n",
      "The sum of the numbers from 1 to 10 is: 6\n",
      "\n",
      "The sum of the numbers from 1 to 10 is: 10\n",
      "\n",
      "The sum of the numbers from 1 to 10 is: 15\n",
      "\n",
      "The sum of the numbers from 1 to 10 is: 21\n",
      "\n",
      "The sum of the numbers from 1 to 10 is: 28\n",
      "\n",
      "The sum of the numbers from 1 to 10 is: 36\n",
      "\n",
      "The sum of the numbers from 1 to 10 is: 45\n",
      "\n",
      "The sum of the numbers from 1 to 10 is: 55\n"
     ]
    }
   ],
   "source": [
    "#Sum of numbers 1 to 10 using while loop\n",
    "sum = 0\n",
    "num = 1\n",
    "\n",
    "while num <=10:\n",
    "    sum += num\n",
    "    num += 1\n",
    "    print(\"\\nThe sum of the numbers from 1 to 10 is:\", sum)"
   ]
  },
  {
   "cell_type": "code",
   "execution_count": 13,
   "id": "03ab7b07-9208-4305-820d-cc4ae279a72a",
   "metadata": {},
   "outputs": [
    {
     "name": "stdout",
     "output_type": "stream",
     "text": [
      "2\n",
      "4\n",
      "6\n",
      "8\n",
      "10\n"
     ]
    }
   ],
   "source": [
    "#Even numbers from 1 to 10 using while loop\n",
    "num = 1\n",
    "\n",
    "while num <=10:\n",
    "    if num%2 == 0:\n",
    "        print(num)\n",
    "    num += 1"
   ]
  },
  {
   "cell_type": "code",
   "execution_count": 28,
   "id": "9ed1bcb9-0f0b-4082-b069-cff7f57fc03a",
   "metadata": {},
   "outputs": [
    {
     "name": "stdout",
     "output_type": "stream",
     "text": [
      "Factorial of 5 is: 120\n"
     ]
    }
   ],
   "source": [
    "#Factorail of 5\n",
    "# Initialize variables\n",
    "nnumber = 5\n",
    "factorial = 1\n",
    "\n",
    "while nnumber > 0:\n",
    "    factorial *= nnumber\n",
    "    nnumber -= 1\n",
    "\n",
    "print(\"Factorial of 5 is:\", factorial)"
   ]
  },
  {
   "cell_type": "code",
   "execution_count": 23,
   "id": "464350b1-3e7a-4bd7-8b85-0510276752f2",
   "metadata": {},
   "outputs": [
    {
     "name": "stdout",
     "output_type": "stream",
     "text": [
      "Hello World!\n"
     ]
    }
   ],
   "source": [
    "#Function\n",
    "def greet():\n",
    "    print(\"Hello World!\")\n",
    "\n",
    "greet()"
   ]
  },
  {
   "cell_type": "code",
   "execution_count": null,
   "id": "19cd47cd-dc2e-46bb-af41-0f6e28a9eac2",
   "metadata": {},
   "outputs": [],
   "source": []
  }
 ],
 "metadata": {
  "kernelspec": {
   "display_name": "Python 3 (ipykernel)",
   "language": "python",
   "name": "python3"
  },
  "language_info": {
   "codemirror_mode": {
    "name": "ipython",
    "version": 3
   },
   "file_extension": ".py",
   "mimetype": "text/x-python",
   "name": "python",
   "nbconvert_exporter": "python",
   "pygments_lexer": "ipython3",
   "version": "3.11.7"
  }
 },
 "nbformat": 4,
 "nbformat_minor": 5
}
