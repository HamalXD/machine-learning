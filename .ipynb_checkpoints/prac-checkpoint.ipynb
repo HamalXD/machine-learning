{
 "cells": [
  {
   "cell_type": "markdown",
   "id": "90e9c914-dbad-4f88-8f2a-178e35eee1c3",
   "metadata": {},
   "source": [
    "<h1>Print Statements</h1>"
   ]
  },
  {
   "cell_type": "code",
   "execution_count": 1,
   "id": "9847d751-98cd-4a0e-9ef5-3f9280ae71be",
   "metadata": {},
   "outputs": [
    {
     "name": "stdout",
     "output_type": "stream",
     "text": [
      "Samman Hamal\n"
     ]
    }
   ],
   "source": [
    "#Write a Python program that prints your name to the console\n",
    "print(\"Samman Hamal\")"
   ]
  },
  {
   "cell_type": "code",
   "execution_count": 2,
   "id": "5a44a10f-23a4-4a6c-ab13-7c9d2d4be93c",
   "metadata": {},
   "outputs": [
    {
     "name": "stdin",
     "output_type": "stream",
     "text": [
      "Enter first number:  10\n",
      "Enter second number:  20\n"
     ]
    },
    {
     "name": "stdout",
     "output_type": "stream",
     "text": [
      "Sum: 30.0\n"
     ]
    }
   ],
   "source": [
    "#Create a Python script that takes two numbers as input from the user and prints their sum.\n",
    "num1 = float(input(\"Enter first number: \"))\n",
    "num2 = float(input(\"Enter second number: \"))\n",
    "sum = num1 + num2\n",
    "print(\"Sum:\", sum)"
   ]
  },
  {
   "cell_type": "code",
   "execution_count": 3,
   "id": "347c4520-4885-450d-8bc7-6899f5f39f7d",
   "metadata": {},
   "outputs": [
    {
     "name": "stdin",
     "output_type": "stream",
     "text": [
      "Enter first number:  10\n",
      "Enter second number:  20\n"
     ]
    },
    {
     "name": "stdout",
     "output_type": "stream",
     "text": [
      "Sum: 30.00\n"
     ]
    }
   ],
   "source": [
    "#Modify the script from question 2 to print the result with two decimal places\n",
    "num1 = float(input(\"Enter first number: \"))\n",
    "num2 = float(input(\"Enter second number: \"))\n",
    "sum = num1 + num2\n",
    "print(\"Sum: {:.2f}\".format(sum))\n"
   ]
  },
  {
   "cell_type": "code",
   "execution_count": 4,
   "id": "7be8b576-f707-44a7-87bf-6e23452b3d79",
   "metadata": {},
   "outputs": [
    {
     "name": "stdout",
     "output_type": "stream",
     "text": [
      "Fibonacci Series:\n",
      "0\n",
      "1\n",
      "1\n",
      "2\n",
      "3\n",
      "5\n",
      "8\n",
      "13\n",
      "21\n",
      "34\n"
     ]
    }
   ],
   "source": [
    "#First 10 Fibonacci numbers\n",
    "a, b = 0, 1\n",
    "print(\"Fibonacci Series:\")\n",
    "for _ in range(10):\n",
    "    print(a)\n",
    "    a, b = b, a + b"
   ]
  },
  {
   "cell_type": "code",
   "execution_count": 5,
   "id": "c4a016b1-785f-4128-9142-954cd83fefe4",
   "metadata": {},
   "outputs": [
    {
     "name": "stdin",
     "output_type": "stream",
     "text": [
      "Enter a number:  10\n"
     ]
    },
    {
     "name": "stdout",
     "output_type": "stream",
     "text": [
      "Multiplication Table for 10\n",
      "10 x 1 = 10\n",
      "10 x 2 = 20\n",
      "10 x 3 = 30\n",
      "10 x 4 = 40\n",
      "10 x 5 = 50\n",
      "10 x 6 = 60\n",
      "10 x 7 = 70\n",
      "10 x 8 = 80\n",
      "10 x 9 = 90\n",
      "10 x 10 = 100\n"
     ]
    }
   ],
   "source": [
    "#Multiplication table for a given number:\n",
    "num = int(input(\"Enter a number: \"))\n",
    "print(\"Multiplication Table for\", num)\n",
    "for i in range(1, 11):\n",
    "    print(num, \"x\", i, \"=\", num * i)"
   ]
  },
  {
   "cell_type": "code",
   "execution_count": 6,
   "id": "5f6efc00-1ba7-42b4-94c1-1dd5bbb8a506",
   "metadata": {},
   "outputs": [
    {
     "name": "stdout",
     "output_type": "stream",
     "text": [
      "10\n",
      "9\n",
      "8\n",
      "7\n",
      "6\n",
      "5\n",
      "4\n",
      "3\n",
      "2\n",
      "1\n"
     ]
    }
   ],
   "source": [
    "#Countdown from 10 to 1\n",
    "for i in range(10, 0, -1):\n",
    "    print(i)\n"
   ]
  },
  {
   "cell_type": "code",
   "execution_count": 7,
   "id": "c027e0eb-40ec-4fc4-bb33-e688ee5111eb",
   "metadata": {},
   "outputs": [
    {
     "name": "stdout",
     "output_type": "stream",
     "text": [
      "10, 9, 8, 7, 6, 5, 4, 3, 2, 1\n"
     ]
    }
   ],
   "source": [
    "#Countdown from 10 to 1 with numbers separated by comma and space\n",
    "countdown = \"\"\n",
    "for i in range(10, 0, -1):\n",
    "    countdown += str(i) + \", \"\n",
    "print(countdown[:-2])  # Removing the last comma and space\n"
   ]
  },
  {
   "cell_type": "code",
   "execution_count": 11,
   "id": "63008c03-1149-4491-bc75-2b6c52801703",
   "metadata": {},
   "outputs": [
    {
     "name": "stdin",
     "output_type": "stream",
     "text": [
      "Enter the name of the file:  First.ipynb\n"
     ]
    },
    {
     "name": "stdout",
     "output_type": "stream",
     "text": [
      "{\n",
      " \"cells\": [\n",
      "  {\n",
      "   \"cell_type\": \"code\",\n",
      "   \"execution_count\": 1,\n",
      "   \"id\": \"6ace9378-57ab-4809-84c7-2e517084d4bd\",\n",
      "   \"metadata\": {},\n",
      "   \"outputs\": [\n",
      "    {\n",
      "     \"name\": \"stdout\",\n",
      "     \"output_type\": \"stream\",\n",
      "     \"text\": [\n",
      "      \"This can print strings\\n\",\n",
      "      \"4\\n\"\n",
      "     ]\n",
      "    }\n",
      "   ],\n",
      "   \"source\": [\n",
      "    \"print (\\\"This can print strings\\\")\\n\",\n",
      "    \"print(4)\"\n",
      "   ]\n",
      "  },\n",
      "  {\n",
      "   \"cell_type\": \"code\",\n",
      "   \"execution_count\": 2,\n",
      "   \"id\": \"71aaaaf4-ac39-41ae-84ff-a21e6b0198d2\",\n",
      "   \"metadata\": {},\n",
      "   \"outputs\": [\n",
      "    {\n",
      "     \"name\": \"stdout\",\n",
      "     \"output_type\": \"stream\",\n",
      "     \"text\": [\n",
      "      \"Name 16\\n\"\n",
      "     ]\n",
      "    }\n",
      "   ],\n",
      "   \"source\": [\n",
      "    \"x = 16\\n\",\n",
      "    \"y = \\\"Name\\\"\\n\",\n",
      "    \"\\n\",\n",
      "    \"print (y, x) \"\n",
      "   ]\n",
      "  },\n",
      "  {\n",
      "   \"cell_type\": \"code\",\n",
      "   \"execution_count\": 3,\n",
      "   \"id\": \"dd320a2d-842d-4497-86d3-edbde803a15d\",\n",
      "   \"metadata\": {},\n",
      "   \"outputs\": [\n",
      "    {\n",
      "     \"name\": \"stdout\",\n",
      "     \"output_type\": \"stream\",\n",
      "     \"text\": [\n",
      "      \"Name is 16 years old\\n\"\n",
      "     ]\n",
      "    }\n",
      "   ],\n",
      "   \"source\": [\n",
      "    \"print(f\\\"{y} is {x} years old\\\")\"\n",
      "   ]\n",
      "  },\n",
      "  {\n",
      "   \"cell_type\": \"code\",\n",
      "   \"execution_count\": 4,\n",
      "   \"id\": \"d4c26f87-ebb8-4c02-8826-3e098f0e123f\",\n",
      "   \"metadata\": {},\n",
      "   \"outputs\": [\n",
      "    {\n",
      "     \"name\": \"stdout\",\n",
      "     \"output_type\": \"stream\",\n",
      "     \"text\": [\n",
      "      \"Name is 16 years old\\n\"\n",
      "     ]\n",
      "    }\n",
      "   ],\n",
      "   \"source\": [\n",
      "    \"print(f\\\"{y} is {x} years old\\\" .format(y,x))\"\n",
      "   ]\n",
      "  },\n",
      "  {\n",
      "   \"cell_type\": \"code\",\n",
      "   \"execution_count\": 9,\n",
      "   \"id\": \"d88b1e1b-285c-4135-8902-a87d2f66b824\",\n",
      "   \"metadata\": {},\n",
      "   \"outputs\": [\n",
      "    {\n",
      "     \"name\": \"stdout\",\n",
      "     \"output_type\": \"stream\",\n",
      "     \"text\": [\n",
      "      \"Name is 16 years old\\n\"\n",
      "     ]\n",
      "    }\n",
      "   ],\n",
      "   \"source\": [\n",
      "    \"print(y + \\\" is \\\" + str(x) + \\\" years old\\\")\"\n",
      "   ]\n",
      "  },\n",
      "  {\n",
      "   \"cell_type\": \"code\",\n",
      "   \"execution_count\": 12,\n",
      "   \"id\": \"9e8898af-bfe6-4e24-b204-bd8828f2618a\",\n",
      "   \"metadata\": {},\n",
      "   \"outputs\": [\n",
      "    {\n",
      "     \"name\": \"stdout\",\n",
      "     \"output_type\": \"stream\",\n",
      "     \"text\": [\n",
      "      \"Name is 16 years old.\\n\"\n",
      "     ]\n",
      "    }\n",
      "   ],\n",
      "   \"source\": [\n",
      "    \"print( \\\"%s is %d years old.\\\" %(y,x))\"\n",
      "   ]\n",
      "  },\n",
      "  {\n",
      "   \"cell_type\": \"code\",\n",
      "   \"execution_count\": 17,\n",
      "   \"id\": \"92a28262-9fb6-4c43-ae76-48274e0f3d0e\",\n",
      "   \"metadata\": {},\n",
      "   \"outputs\": [\n",
      "    {\n",
      "     \"name\": \"stdout\",\n",
      "     \"output_type\": \"stream\",\n",
      "     \"text\": [\n",
      "      \"60 -40 500 10\\n\",\n",
      "      \"Addition = 60,Subraction = -40, Multiplication = 500,Remainder = 10, Division = 0.2\\n\"\n",
      "     ]\n",
      "    }\n",
      "   ],\n",
      "   \"source\": [\n",
      "    \"x = 10\\n\",\n",
      "    \"y = 50\\n\",\n",
      "    \"\\n\",\n",
      "    \"a = x + y\\n\",\n",
      "    \"b = x - y\\n\",\n",
      "    \"c = x * y\\n\",\n",
      "    \"d = x % y\\n\",\n",
      "    \"e = x / y\\n\",\n",
      "    \"\\n\",\n",
      "    \"print(a, b, c, d)\\n\",\n",
      "    \"print(f\\\"Addition = {a},Subraction = {b}, Multiplication = {c},Remainder = {d}, Division = {e}\\\")\"\n",
      "   ]\n",
      "  },\n",
      "  {\n",
      "   \"cell_type\": \"code\",\n",
      "   \"execution_count\": 20,\n",
      "   \"id\": \"1554c611-c69c-4910-914c-2c364ff6559d\",\n",
      "   \"metadata\": {},\n",
      "   \"outputs\": [\n",
      "    {\n",
      "     \"name\": \"stdout\",\n",
      "     \"output_type\": \"stream\",\n",
      "     \"text\": [\n",
      "      \"Single Quoted String: Python is Awesome\\n\"\n",
      "     ]\n",
      "    }\n",
      "   ],\n",
      "   \"source\": [\n",
      "    \"single_quoted_string = \\\"Python is Awesome\\\"\\n\",\n",
      "    \"print(\\\"Single Quoted String:\\\" , single_quoted_string)\"\n",
      "   ]\n",
      "  },\n",
      "  {\n",
      "   \"cell_type\": \"code\",\n",
      "   \"execution_count\": 23,\n",
      "   \"id\": \"f5660302-2755-4fae-bc64-79ee9e322704\",\n",
      "   \"metadata\": {},\n",
      "   \"outputs\": [\n",
      "    {\n",
      "     \"name\": \"stdout\",\n",
      "     \"output_type\": \"stream\",\n",
      "     \"text\": [\n",
      "      \"Double Quoted String: Im Learning Python\\n\"\n",
      "     ]\n",
      "    }\n",
      "   ],\n",
      "   \"source\": [\n",
      "    \"double_quoted_string = \\\"Im Learning Python\\\"\\n\",\n",
      "    \"print(\\\"Double Quoted String:\\\" , double_quoted_string)\"\n",
      "   ]\n",
      "  },\n",
      "  {\n",
      "   \"cell_type\": \"code\",\n",
      "   \"execution_count\": 25,\n",
      "   \"id\": \"41eac877-0502-4292-a649-956139cb157f\",\n",
      "   \"metadata\": {},\n",
      "   \"outputs\": [\n",
      "    {\n",
      "     \"name\": \"stdout\",\n",
      "     \"output_type\": \"stream\",\n",
      "     \"text\": [\n",
      "      \"Concatinated String is: Python is Awesome Im Learning Python\\n\"\n",
      "     ]\n",
      "    }\n",
      "   ],\n",
      "   \"source\": [\n",
      "    \"concatenated_string = single_quoted_string + \\\" \\\" + double_quoted_string\\n\",\n",
      "    \"print(\\\"Concatinated String is:\\\" , concatenated_string)\"\n",
      "   ]\n",
      "  },\n",
      "  {\n",
      "   \"cell_type\": \"code\",\n",
      "   \"execution_count\": 27,\n",
      "   \"id\": \"ee467d2d-9851-4e1a-8e9e-b1d1da9ba7f8\",\n",
      "   \"metadata\": {},\n",
      "   \"outputs\": [\n",
      "    {\n",
      "     \"name\": \"stdout\",\n",
      "     \"output_type\": \"stream\",\n",
      "     \"text\": [\n",
      "      \"PYTHON IS AWESOME IM LEARNING PYTHON python is awesome im learning python\\n\"\n",
      "     ]\n",
      "    }\n",
      "   ],\n",
      "   \"source\": [\n",
      "    \"uppercase_string = concatenated_string.upper()\\n\",\n",
      "    \"lowercase_string = concatenated_string.lower()\\n\",\n",
      "    \"\\n\",\n",
      "    \"print(uppercase_string, lowercase_string)\"\n",
      "   ]\n",
      "  },\n",
      "  {\n",
      "   \"cell_type\": \"code\",\n",
      "   \"execution_count\": 2,\n",
      "   \"id\": \"938358c7-458d-4720-b094-6ccfd3a09d09\",\n",
      "   \"metadata\": {},\n",
      "   \"outputs\": [\n",
      "    {\n",
      "     \"name\": \"stdout\",\n",
      "     \"output_type\": \"stream\",\n",
      "     \"text\": [\n",
      "      \"Sliced words are ersity\\n\"\n",
      "     ]\n",
      "    }\n",
      "   ],\n",
      "   \"source\": [\n",
      "    \"word = \\\"University of Sunderland\\\"\\n\",\n",
      "    \"slice_word = word[4: 10]\\n\",\n",
      "    \"print(\\\"Sliced words are\\\" , slice_word)\"\n",
      "   ]\n",
      "  },\n",
      "  {\n",
      "   \"cell_type\": \"code\",\n",
      "   \"execution_count\": 7,\n",
      "   \"id\": \"18597c64-e5f7-482a-888d-3d9520291b53\",\n",
      "   \"metadata\": {},\n",
      "   \"outputs\": [\n",
      "    {\n",
      "     \"name\": \"stdout\",\n",
      "     \"output_type\": \"stream\",\n",
      "     \"text\": [\n",
      "      \"    Pokhara University\\n\",\n",
      "      \"Pokhara University\\n\"\n",
      "     ]\n",
      "    }\n",
      "   ],\n",
      "   \"source\": [\n",
      "    \"word_space = \\\"    Pokhara University\\\"\\n\",\n",
      "    \"print(word_space)\\n\",\n",
      "    \"\\n\",\n",
      "    \"remove_space = word_space.strip()\\n\",\n",
      "    \"print(remove_space)\"\n",
      "   ]\n",
      "  },\n",
      "  {\n",
      "   \"cell_type\": \"code\",\n",
      "   \"execution_count\": 10,\n",
      "   \"id\": \"221a02b1-8c19-4fb3-8953-53e9391b58cd\",\n",
      "   \"metadata\": {},\n",
      "   \"outputs\": [\n",
      "    {\n",
      "     \"name\": \"stdout\",\n",
      "     \"output_type\": \"stream\",\n",
      "     \"text\": [\n",
      "      \"['Kali', 'Linux', 'is', 'used', 'for', 'Hacking']\\n\",\n",
      "      \"Kali Linux is used for Hacking\\n\"\n",
      "     ]\n",
      "    }\n",
      "   ],\n",
      "   \"source\": [\n",
      "    \"word_list = [\\\"Kali\\\", \\\"Linux\\\", \\\"is\\\", \\\"used\\\", \\\"for\\\", \\\"Hacking\\\"]\\n\",\n",
      "    \"print(word_list)\\n\",\n",
      "    \"\\n\",\n",
      "    \"sentence = \\\" \\\".join(word_list)\\n\",\n",
      "    \"print(sentence)\"\n",
      "   ]\n",
      "  },\n",
      "  {\n",
      "   \"cell_type\": \"code\",\n",
      "   \"execution_count\": 12,\n",
      "   \"id\": \"bc00d14d-2f57-4492-8cef-a75ebdecb59d\",\n",
      "   \"metadata\": {},\n",
      "   \"outputs\": [\n",
      "    {\n",
      "     \"name\": \"stdout\",\n",
      "     \"output_type\": \"stream\",\n",
      "     \"text\": [\n",
      "      \"Cyber Security, World\\n\"\n",
      "     ]\n",
      "    }\n",
      "   ],\n",
      "   \"source\": [\n",
      "    \"world_list = \\\"Hello, World\\\"\\n\",\n",
      "    \"replace_string = world_list.replace(\\\"Hello\\\", \\\"Cyber Security\\\")\\n\",\n",
      "    \"print(replace_string)\"\n",
      "   ]\n",
      "  },\n",
      "  {\n",
      "   \"cell_type\": \"code\",\n",
      "   \"execution_count\": 13,\n",
      "   \"id\": \"d6ea6716-57bb-4f0e-93c6-b581eff87ef2\",\n",
      "   \"metadata\": {},\n",
      "   \"outputs\": [\n",
      "    {\n",
      "     \"name\": \"stdout\",\n",
      "     \"output_type\": \"stream\",\n",
      "     \"text\": [\n",
      "      \"Index of 'course': 46\\n\"\n",
      "     ]\n",
      "    }\n",
      "   ],\n",
      "   \"source\": [\n",
      "    \"word = \\\"Python is Awesome!! I'm learning python crash course\\\"\\n\",\n",
      "    \"index = word.find(\\\"course\\\")\\n\",\n",
      "    \"\\n\",\n",
      "    \"print(\\\"Index of 'course':\\\" , index)\"\n",
      "   ]\n",
      "  },\n",
      "  {\n",
      "   \"cell_type\": \"code\",\n",
      "   \"execution_count\": 20,\n",
      "   \"id\": \"a3535117-c924-4e91-bde9-947fe9bf7044\",\n",
      "   \"metadata\": {},\n",
      "   \"outputs\": [\n",
      "    {\n",
      "     \"name\": \"stdout\",\n",
      "     \"output_type\": \"stream\",\n",
      "     \"text\": [\n",
      "      \"['Hami Tin Bhai', 'Papi Manchey', 'Andi Pusush', 'Animal', 'Hera Pheri']\\n\",\n",
      "      \"Accesing an element: Animal\\n\",\n",
      "      \"5\\n\"\n",
      "     ]\n",
      "    }\n",
      "   ],\n",
      "   \"source\": [\n",
      "    \"fav_movie = [\\\"Hami Tin Bhai\\\", \\\"Papi Manchey\\\", \\\"Andi Pusush\\\", \\\"Animal\\\", \\\"Hera Pheri\\\"]\\n\",\n",
      "    \"print(fav_movie)\\n\",\n",
      "    \"\\n\",\n",
      "    \"print(\\\"Accesing an element:\\\", fav_movie[3])\\n\",\n",
      "    \"print(len(fav_movie))\"\n",
      "   ]\n",
      "  },\n",
      "  {\n",
      "   \"cell_type\": \"code\",\n",
      "   \"execution_count\": 23,\n",
      "   \"id\": \"4ec28322-386e-4f21-9ab7-6aec819924e9\",\n",
      "   \"metadata\": {},\n",
      "   \"outputs\": [\n",
      "    {\n",
      "     \"name\": \"stdout\",\n",
      "     \"output_type\": \"stream\",\n",
      "     \"text\": [\n",
      "      \"['Apple', 'Banana', 'Cherry', 'Dragon Fruit']\\n\",\n",
      "      \"[5, 10, 15, 20, 25]\\n\",\n",
      "      \"[True, False, True, False]\\n\",\n",
      "      \"['Apple', True, 4]\\n\",\n",
      "      \"<class 'list'>\\n\"\n",
      "     ]\n",
      "    }\n",
      "   ],\n",
      "   \"source\": [\n",
      "    \"list1 = [\\\"Apple\\\", \\\"Banana\\\", \\\"Cherry\\\", \\\"Dragon Fruit\\\"]\\n\",\n",
      "    \"list2 = [5, 10, 15, 20, 25]\\n\",\n",
      "    \"list3 = [True, False, True, False]\\n\",\n",
      "    \"list4 = [\\\"Apple\\\", True, 4]\\n\",\n",
      "    \"\\n\",\n",
      "    \"print(list1)\\n\",\n",
      "    \"print(list2)\\n\",\n",
      "    \"print(list3)\\n\",\n",
      "    \"print(list4)\\n\",\n",
      "    \"\\n\",\n",
      "    \"print(type(list3))\"\n",
      "   ]\n",
      "  },\n",
      "  {\n",
      "   \"cell_type\": \"code\",\n",
      "   \"execution_count\": 28,\n",
      "   \"id\": \"baf7135f-e25e-4c35-b525-2156a3994dfc\",\n",
      "   \"metadata\": {},\n",
      "   \"outputs\": [\n",
      "    {\n",
      "     \"name\": \"stdout\",\n",
      "     \"output_type\": \"stream\",\n",
      "     \"text\": [\n",
      "      \"['One Piece', 'Lord of the Rings', [9, 10]]\\n\",\n",
      "      \"IMBD Rating LOR: 10\\n\"\n",
      "     ]\n",
      "    }\n",
      "   ],\n",
      "   \"source\": [\n",
      "    \"nested_list = [\\\"One Piece\\\", \\\"Lord of the Rings\\\", [9, 10]]\\n\",\n",
      "    \"print(nested_list)\\n\",\n",
      "    \"print(\\\"IMBD Rating LOR:\\\", nested_list[2][1])\"\n",
      "   ]\n",
      "  },\n",
      "  {\n",
      "   \"cell_type\": \"code\",\n",
      "   \"execution_count\": 38,\n",
      "   \"id\": \"40f0e419-427d-4c79-9069-2cf260ed0ab0\",\n",
      "   \"metadata\": {},\n",
      "   \"outputs\": [\n",
      "    {\n",
      "     \"name\": \"stdout\",\n",
      "     \"output_type\": \"stream\",\n",
      "     \"text\": [\n",
      "      \"{'Name': 'Hamal', 'Department': 'Computer Engineering', 'Age': 21}\\n\",\n",
      "      \"Students name is: Hamal\\n\",\n",
      "      \"{'Name': 'Hamal', 'Department': 'Computer Engineering', 'Age': 21}\\n\"\n",
      "     ]\n",
      "    }\n",
      "   ],\n",
      "   \"source\": [\n",
      "    \"student = {\\n\",\n",
      "    \"    \\\"Name\\\": \\\"Hamal\\\",\\n\",\n",
      "    \"    \\\"Department\\\": \\\"Computer Engineering\\\",\\n\",\n",
      "    \"    \\\"Age\\\": 21\\n\",\n",
      "    \"}\\n\",\n",
      "    \"\\n\",\n",
      "    \"print(student)\\n\",\n",
      "    \"print(\\\"Students name is:\\\", student[\\\"Name\\\"])\"\n",
      "   ]\n",
      "  },\n",
      "  {\n",
      "   \"cell_type\": \"code\",\n",
      "   \"execution_count\": 40,\n",
      "   \"id\": \"820238da-6c7a-474b-9eec-11840355aa94\",\n",
      "   \"metadata\": {},\n",
      "   \"outputs\": [\n",
      "    {\n",
      "     \"name\": \"stdout\",\n",
      "     \"output_type\": \"stream\",\n",
      "     \"text\": [\n",
      "      \"{'Name': 'Hamal', 'Department': 'Computer Engineering', 'Age': 21, 'Year': 2022}\\n\"\n",
      "     ]\n",
      "    }\n",
      "   ],\n",
      "   \"source\": [\n",
      "    \"student[\\\"Year\\\"] = 2022\\n\",\n",
      "    \"print(repr(student))\"\n",
      "   ]\n",
      "  },\n",
      "  {\n",
      "   \"cell_type\": \"code\",\n",
      "   \"execution_count\": 42,\n",
      "   \"id\": \"400b0c3b-18f3-4c37-94f8-4acff1ee98eb\",\n",
      "   \"metadata\": {},\n",
      "   \"outputs\": [\n",
      "    {\n",
      "     \"name\": \"stdout\",\n",
      "     \"output_type\": \"stream\",\n",
      "     \"text\": [\n",
      "      \"{'Name': 'Hamal', 'Department': 'Computer Engineering', 'Age': 21}\\n\"\n",
      "     ]\n",
      "    }\n",
      "   ],\n",
      "   \"source\": [\n",
      "    \"if \\\"Year\\\" in student:\\n\",\n",
      "    \"    del student[\\\"Year\\\"]\\n\",\n",
      "    \"\\n\",\n",
      "    \"print(student)\"\n",
      "   ]\n",
      "  },\n",
      "  {\n",
      "   \"cell_type\": \"code\",\n",
      "   \"execution_count\": 45,\n",
      "   \"id\": \"2cceaa47-3deb-4bd6-b373-ef60b8323f52\",\n",
      "   \"metadata\": {},\n",
      "   \"outputs\": [\n",
      "    {\n",
      "     \"name\": \"stdout\",\n",
      "     \"output_type\": \"stream\",\n",
      "     \"text\": [\n",
      "      \"{'name': 'Tesla', 'company': 'Tesla', 'price': 100}\\n\"\n",
      "     ]\n",
      "    }\n",
      "   ],\n",
      "   \"source\": [\n",
      "    \"car_list = dict(name=\\\"Tesla\\\", company=\\\"Tesla\\\", price=100)\\n\",\n",
      "    \"print(car_list)\"\n",
      "   ]\n",
      "  },\n",
      "  {\n",
      "   \"cell_type\": \"code\",\n",
      "   \"execution_count\": null,\n",
      "   \"id\": \"c510149d-2cef-4a2f-9a95-7930c58955ed\",\n",
      "   \"metadata\": {},\n",
      "   \"outputs\": [],\n",
      "   \"source\": []\n",
      "  }\n",
      " ],\n",
      " \"metadata\": {\n",
      "  \"kernelspec\": {\n",
      "   \"display_name\": \"Python 3 (ipykernel)\",\n",
      "   \"language\": \"python\",\n",
      "   \"name\": \"python3\"\n",
      "  },\n",
      "  \"language_info\": {\n",
      "   \"codemirror_mode\": {\n",
      "    \"name\": \"ipython\",\n",
      "    \"version\": 3\n",
      "   },\n",
      "   \"file_extension\": \".py\",\n",
      "   \"mimetype\": \"text/x-python\",\n",
      "   \"name\": \"python\",\n",
      "   \"nbconvert_exporter\": \"python\",\n",
      "   \"pygments_lexer\": \"ipython3\",\n",
      "   \"version\": \"3.11.7\"\n",
      "  }\n",
      " },\n",
      " \"nbformat\": 4,\n",
      " \"nbformat_minor\": 5\n",
      "}\n",
      "\n"
     ]
    }
   ],
   "source": [
    "#Print contents of a text file\n",
    "file_name = input(\"Enter the name of the file: \")\n",
    "with open(file_name, 'r') as file:\n",
    "    contents = file.read()\n",
    "    print(contents)"
   ]
  },
  {
   "cell_type": "code",
   "execution_count": 12,
   "id": "a2daa06f-d254-49c0-88ec-7fbc4a98b7f2",
   "metadata": {},
   "outputs": [
    {
     "name": "stdin",
     "output_type": "stream",
     "text": [
      "Enter the number of rows:  5\n"
     ]
    },
    {
     "name": "stdout",
     "output_type": "stream",
     "text": [
      "*\n",
      "**\n",
      "***\n",
      "****\n",
      "*****\n"
     ]
    }
   ],
   "source": [
    "#Print a pattern of stars like a triangle\n",
    "rows = int(input(\"Enter the number of rows: \"))\n",
    "for i in range(1, rows + 1):\n",
    "    print(\"*\" * i)\n"
   ]
  },
  {
   "cell_type": "code",
   "execution_count": 13,
   "id": "7f22a5a4-4f04-4e2a-a541-3c203bdc5da1",
   "metadata": {},
   "outputs": [
    {
     "name": "stdout",
     "output_type": "stream",
     "text": [
      "Current Date and Time: 2024-05-12 17:27:45.919413\n"
     ]
    }
   ],
   "source": [
    "#Print current date and time\n",
    "import datetime\n",
    "current_datetime = datetime.datetime.now()\n",
    "print(\"Current Date and Time:\", current_datetime)\n"
   ]
  },
  {
   "cell_type": "markdown",
   "id": "f6140905-09bc-4c24-aaac-af8dfec78dd2",
   "metadata": {},
   "source": [
    "<h1>Data Types</h1>"
   ]
  },
  {
   "cell_type": "markdown",
   "id": "bbf60bd5-d889-4540-8207-c8661205012e",
   "metadata": {
    "jp-MarkdownHeadingCollapsed": true
   },
   "source": [
    "<h2>Numbers</h2>"
   ]
  },
  {
   "cell_type": "code",
   "execution_count": 14,
   "id": "f27f6f60-05f0-4c52-a66b-9b18e1edaf24",
   "metadata": {},
   "outputs": [
    {
     "name": "stdin",
     "output_type": "stream",
     "text": [
      "Enter the radius of the circle:  7\n"
     ]
    },
    {
     "name": "stdout",
     "output_type": "stream",
     "text": [
      "Area of the circle: 153.93804002589985\n"
     ]
    }
   ],
   "source": [
    "#Calculate the area of a circle with a given radius\n",
    "import math\n",
    "radius = float(input(\"Enter the radius of the circle: \"))\n",
    "area = math.pi * (radius ** 2)\n",
    "print(\"Area of the circle:\", area)\n"
   ]
  },
  {
   "cell_type": "code",
   "execution_count": 15,
   "id": "dc2700bf-21ca-42a1-ad4e-de6b9a5a3bfa",
   "metadata": {},
   "outputs": [
    {
     "name": "stdin",
     "output_type": "stream",
     "text": [
      "Enter first number:  10\n",
      "Enter second number:  20\n"
     ]
    },
    {
     "name": "stdout",
     "output_type": "stream",
     "text": [
      "Result of division: 0.5\n"
     ]
    }
   ],
   "source": [
    "#Division of two numbers\n",
    "num1 = float(input(\"Enter first number: \"))\n",
    "num2 = float(input(\"Enter second number: \"))\n",
    "if num2 != 0:\n",
    "    result = num1 / num2\n",
    "    print(\"Result of division:\", result)\n",
    "else:\n",
    "    print(\"Cannot divide by zero.\")\n"
   ]
  },
  {
   "cell_type": "code",
   "execution_count": 16,
   "id": "651e1a69-c812-4518-9871-41067c2b8a7c",
   "metadata": {},
   "outputs": [
    {
     "name": "stdin",
     "output_type": "stream",
     "text": [
      "Enter a number:  10\n"
     ]
    },
    {
     "name": "stdout",
     "output_type": "stream",
     "text": [
      "Factorial of 10 : 3628800\n"
     ]
    }
   ],
   "source": [
    "#Factorial of a given number\n",
    "num = int(input(\"Enter a number: \"))\n",
    "factorial = 1\n",
    "for i in range(1, num + 1):\n",
    "    factorial *= i\n",
    "print(\"Factorial of\", num, \":\", factorial)\n"
   ]
  },
  {
   "cell_type": "code",
   "execution_count": 17,
   "id": "9c8b9ab2-3550-47b0-88fd-955365d80d50",
   "metadata": {},
   "outputs": [
    {
     "name": "stdin",
     "output_type": "stream",
     "text": [
      "Enter temperature in Celsius:  21\n"
     ]
    },
    {
     "name": "stdout",
     "output_type": "stream",
     "text": [
      "Temperature in Fahrenheit: 69.8\n"
     ]
    }
   ],
   "source": [
    "#Convert temperature from Celsius to Fahrenheit\n",
    "celsius = float(input(\"Enter temperature in Celsius: \"))\n",
    "fahrenheit = (celsius * 9/5) + 32\n",
    "print(\"Temperature in Fahrenheit:\", fahrenheit)\n"
   ]
  },
  {
   "cell_type": "code",
   "execution_count": 18,
   "id": "a7f8758b-50de-4ca9-928b-a14c63d96c7f",
   "metadata": {},
   "outputs": [
    {
     "name": "stdout",
     "output_type": "stream",
     "text": [
      "Random number between 1 and 100: 61\n"
     ]
    }
   ],
   "source": [
    "#Generate a random number between 1 and 100\n",
    "import random\n",
    "random_number = random.randint(1, 100)\n",
    "print(\"Random number between 1 and 100:\", random_number)\n"
   ]
  },
  {
   "cell_type": "markdown",
   "id": "d2a9e960-5db2-438d-bbe9-cf55afead9df",
   "metadata": {
    "jp-MarkdownHeadingCollapsed": true
   },
   "source": [
    "<h2>String</h2>"
   ]
  },
  {
   "cell_type": "code",
   "execution_count": 19,
   "id": "2f83cc14-4e15-4392-9199-54403380d623",
   "metadata": {},
   "outputs": [
    {
     "name": "stdin",
     "output_type": "stream",
     "text": [
      "Reversing a string  hello world \n"
     ]
    },
    {
     "name": "stdout",
     "output_type": "stream",
     "text": [
      "Reversed string:  dlrow olleh\n"
     ]
    }
   ],
   "source": [
    "#Reverse a given string\n",
    "string = input(\"Reversing a string \")\n",
    "reversed_string = string[::-1]\n",
    "print(\"Reversed string:\", reversed_string)\n"
   ]
  },
  {
   "cell_type": "code",
   "execution_count": 21,
   "id": "55ae50ae-1c21-4182-8c69-d04e3ac49446",
   "metadata": {},
   "outputs": [
    {
     "name": "stdin",
     "output_type": "stream",
     "text": [
      "Enter a string:  racecar\n"
     ]
    },
    {
     "name": "stdout",
     "output_type": "stream",
     "text": [
      "Palindrome\n"
     ]
    }
   ],
   "source": [
    "#Check if a given string is a palindrome\n",
    "string = input(\"Enter a string: \")\n",
    "if string == string[::-1]:\n",
    "    print(\"Palindrome\")\n",
    "else:\n",
    "    print(\"Not a palindrome\")\n",
    "\n"
   ]
  },
  {
   "cell_type": "code",
   "execution_count": 22,
   "id": "8725a645-9135-4b12-8874-6e4f26454714",
   "metadata": {},
   "outputs": [
    {
     "name": "stdin",
     "output_type": "stream",
     "text": [
      "Enter a string:  Hello World\n"
     ]
    },
    {
     "name": "stdout",
     "output_type": "stream",
     "text": [
      "Number of words: 2\n"
     ]
    }
   ],
   "source": [
    "#Count the number of words in a given string\n",
    "string = input(\"Enter a string: \")\n",
    "words = string.split()\n",
    "print(\"Number of words:\", len(words))\n"
   ]
  },
  {
   "cell_type": "code",
   "execution_count": 23,
   "id": "0b3ce40a-78e6-4070-93ab-ae077c432ade",
   "metadata": {},
   "outputs": [
    {
     "name": "stdin",
     "output_type": "stream",
     "text": [
      "Enter a sentence:  Hello World\n"
     ]
    },
    {
     "name": "stdout",
     "output_type": "stream",
     "text": [
      "Reversed sentence: World Hello\n"
     ]
    }
   ],
   "source": [
    "#Reverse the words in a sentence\n",
    "sentence = input(\"Enter a sentence: \")\n",
    "words = sentence.split()\n",
    "reversed_sentence = \" \".join(words[::-1])\n",
    "print(\"Reversed sentence:\", reversed_sentence)"
   ]
  },
  {
   "cell_type": "code",
   "execution_count": 24,
   "id": "4508f287-a895-4d75-8b04-120c660ebafb",
   "metadata": {},
   "outputs": [
    {
     "name": "stdin",
     "output_type": "stream",
     "text": [
      "Enter a string:  Hello World\n"
     ]
    },
    {
     "name": "stdout",
     "output_type": "stream",
     "text": [
      "Lowercase string: hello world\n"
     ]
    }
   ],
   "source": [
    "#Convert a string to lowercase\n",
    "string = input(\"Enter a string: \")\n",
    "lowercase_string = string.lower()\n",
    "print(\"Lowercase string:\", lowercase_string)\n"
   ]
  },
  {
   "cell_type": "markdown",
   "id": "63aaa040-a4c4-459d-9e77-8c185efab6d8",
   "metadata": {
    "jp-MarkdownHeadingCollapsed": true
   },
   "source": [
    "<h2>Lists</h2>"
   ]
  },
  {
   "cell_type": "code",
   "execution_count": 28,
   "id": "a88d2290-bb43-47c3-afda-15d6426585c7",
   "metadata": {},
   "outputs": [
    {
     "name": "stdin",
     "output_type": "stream",
     "text": [
      "Enter numbers separated by space:  3 9\n"
     ]
    },
    {
     "name": "stdout",
     "output_type": "stream",
     "text": [
      "Largest element: 9\n",
      "Smallest element: 3\n"
     ]
    }
   ],
   "source": [
    "#Find the largest and smallest elements in a list\n",
    "numbers = [int(x) for x in input(\"Enter numbers separated by space: \").split()]\n",
    "largest = max(numbers)\n",
    "smallest = min(numbers)\n",
    "print(\"Largest element:\", largest)\n",
    "print(\"Smallest element:\", smallest)"
   ]
  },
  {
   "cell_type": "code",
   "execution_count": 42,
   "id": "c2bc66ce-eb66-48e9-8875-178c698dc97b",
   "metadata": {},
   "outputs": [
    {
     "name": "stdin",
     "output_type": "stream",
     "text": [
      "Enter numbers separated by space: 2 3 4 5 \n"
     ]
    },
    {
     "ename": "TypeError",
     "evalue": "'float' object is not callable",
     "output_type": "error",
     "traceback": [
      "\u001b[1;31m---------------------------------------------------------------------------\u001b[0m",
      "\u001b[1;31mTypeError\u001b[0m                                 Traceback (most recent call last)",
      "Cell \u001b[1;32mIn[42], line 3\u001b[0m\n\u001b[0;32m      1\u001b[0m \u001b[38;5;66;03m#Sum of all elements in a list\u001b[39;00m\n\u001b[0;32m      2\u001b[0m number \u001b[38;5;241m=\u001b[39m [\u001b[38;5;28mint\u001b[39m(x) \u001b[38;5;28;01mfor\u001b[39;00m x \u001b[38;5;129;01min\u001b[39;00m \u001b[38;5;28minput\u001b[39m(\u001b[38;5;124m\"\u001b[39m\u001b[38;5;124mEnter numbers separated by space:\u001b[39m\u001b[38;5;124m\"\u001b[39m)\u001b[38;5;241m.\u001b[39msplit()]\n\u001b[1;32m----> 3\u001b[0m add_elements \u001b[38;5;241m=\u001b[39m \u001b[38;5;28msum\u001b[39m(number)\n\u001b[0;32m      4\u001b[0m \u001b[38;5;28mprint\u001b[39m(\u001b[38;5;124m\"\u001b[39m\u001b[38;5;124mThe sum of elements are:\u001b[39m\u001b[38;5;124m\"\u001b[39m, add_elements)\n",
      "\u001b[1;31mTypeError\u001b[0m: 'float' object is not callable"
     ]
    }
   ],
   "source": [
    "#Sum of all elements in a list\n",
    "number = [int(x) for x in input(\"Enter numbers separated by space:\").split()]\n",
    "add_elements = sum(number)\n",
    "print(\"The sum of elements are:\", add_elements)\n",
    "#Code doesn't work..."
   ]
  },
  {
   "cell_type": "code",
   "execution_count": 35,
   "id": "ef1dc727-e907-4496-9381-a010c405773e",
   "metadata": {},
   "outputs": [
    {
     "name": "stdin",
     "output_type": "stream",
     "text": [
      "Enter numbers separated by space:  2 -3 -4 3 4\n"
     ]
    },
    {
     "name": "stdout",
     "output_type": "stream",
     "text": [
      "List with negative numbers removed: [2, 3, 4]\n"
     ]
    }
   ],
   "source": [
    "#Remove negative numbers from a list\n",
    "numbers = [int(x) for x in input(\"Enter numbers separated by space: \").split()]\n",
    "positive_numbers = [num for num in numbers if num >= 0]\n",
    "print(\"List with negative numbers removed:\", positive_numbers)\n"
   ]
  },
  {
   "cell_type": "code",
   "execution_count": 36,
   "id": "1da6c9b8-b70a-4c11-8be8-4c14c18bdef8",
   "metadata": {},
   "outputs": [
    {
     "name": "stdin",
     "output_type": "stream",
     "text": [
      "Enter numbers separated by space:  123 4 5 7 9 102\n"
     ]
    },
    {
     "name": "stdout",
     "output_type": "stream",
     "text": [
      "Sorted list: [4, 5, 7, 9, 102, 123]\n"
     ]
    }
   ],
   "source": [
    "#Sort a list of integers in ascending order\n",
    "numbers = [int(x) for x in input(\"Enter numbers separated by space: \").split()]\n",
    "numbers.sort()\n",
    "print(\"Sorted list:\", numbers)\n"
   ]
  },
  {
   "cell_type": "code",
   "execution_count": 37,
   "id": "99756ba7-a42a-407b-97d1-495101d2d52f",
   "metadata": {},
   "outputs": [
    {
     "name": "stdin",
     "output_type": "stream",
     "text": [
      "Enter numbers for first list separated by space:  1 3 5 7 9 0\n",
      "Enter numbers for second list separated by space:  2 4 6 8 0\n"
     ]
    },
    {
     "name": "stdout",
     "output_type": "stream",
     "text": [
      "Common elements found: True\n"
     ]
    }
   ],
   "source": [
    "#Check if two lists have at least one common element\n",
    "list1 = [int(x) for x in input(\"Enter numbers for first list separated by space: \").split()]\n",
    "list2 = [int(x) for x in input(\"Enter numbers for second list separated by space: \").split()]\n",
    "common_elements = any(elem in list1 for elem in list2)\n",
    "print(\"Common elements found:\", common_elements)\n"
   ]
  },
  {
   "cell_type": "markdown",
   "id": "cd26716d-9f48-45fb-badd-2d453b0320c3",
   "metadata": {},
   "source": [
    "<h2>Dictionary</h2>"
   ]
  },
  {
   "cell_type": "code",
   "execution_count": 38,
   "id": "08a03a59-333c-4cb4-ab6f-09409bdbd4b5",
   "metadata": {},
   "outputs": [
    {
     "name": "stdout",
     "output_type": "stream",
     "text": [
      "Keys: dict_keys(['key1', 'key2', 'key3'])\n"
     ]
    }
   ],
   "source": [
    "#Print all keys of a dictionary\n",
    "my_dict = {\"key1\": 1, \"key2\": 2, \"key3\": 3}\n",
    "print(\"Keys:\", my_dict.keys())\n"
   ]
  },
  {
   "cell_type": "code",
   "execution_count": 44,
   "id": "5c75e9e0-93e7-4f87-bf3b-4473a311cac1",
   "metadata": {},
   "outputs": [
    {
     "ename": "TypeError",
     "evalue": "'float' object is not callable",
     "output_type": "error",
     "traceback": [
      "\u001b[1;31m---------------------------------------------------------------------------\u001b[0m",
      "\u001b[1;31mTypeError\u001b[0m                                 Traceback (most recent call last)",
      "Cell \u001b[1;32mIn[44], line 3\u001b[0m\n\u001b[0;32m      1\u001b[0m \u001b[38;5;66;03m#Sum of all values in a dictionary\u001b[39;00m\n\u001b[0;32m      2\u001b[0m my_dict \u001b[38;5;241m=\u001b[39m {\u001b[38;5;124m\"\u001b[39m\u001b[38;5;124mkey1\u001b[39m\u001b[38;5;124m\"\u001b[39m: \u001b[38;5;241m1\u001b[39m, \u001b[38;5;124m\"\u001b[39m\u001b[38;5;124mkey2\u001b[39m\u001b[38;5;124m\"\u001b[39m: \u001b[38;5;241m2\u001b[39m, \u001b[38;5;124m\"\u001b[39m\u001b[38;5;124mkey3\u001b[39m\u001b[38;5;124m\"\u001b[39m: \u001b[38;5;241m3\u001b[39m}\n\u001b[1;32m----> 3\u001b[0m addValues \u001b[38;5;241m=\u001b[39m \u001b[38;5;28msum\u001b[39m(my_dict\u001b[38;5;241m.\u001b[39mvalues())\n\u001b[0;32m      4\u001b[0m \u001b[38;5;28mprint\u001b[39m(\u001b[38;5;124m\"\u001b[39m\u001b[38;5;124mSum of values:\u001b[39m\u001b[38;5;124m\"\u001b[39m, addValues)\n",
      "\u001b[1;31mTypeError\u001b[0m: 'float' object is not callable"
     ]
    }
   ],
   "source": [
    "#Sum of all values in a dictionary\n",
    "my_dict = {\"key1\": 1, \"key2\": 2, \"key3\": 3}\n",
    "addValues = sum(my_dict.values())\n",
    "print(\"Sum of values:\", addValues)\n",
    "#..."
   ]
  },
  {
   "cell_type": "code",
   "execution_count": 46,
   "id": "3ec93415-a85c-45ff-b8ad-624d7c438b90",
   "metadata": {},
   "outputs": [
    {
     "name": "stdin",
     "output_type": "stream",
     "text": [
      "Enter key to check:  key1\n"
     ]
    },
    {
     "name": "stdout",
     "output_type": "stream",
     "text": [
      "Key exists\n"
     ]
    }
   ],
   "source": [
    "#Check if a given key exists in a dictionary\n",
    "my_dict = {\"key1\": 1, \"key2\": 2, \"key3\": 3}\n",
    "key_to_check = input(\"Enter key to check: \")\n",
    "if key_to_check in my_dict:\n",
    "    print(\"Key exists\")\n",
    "else:\n",
    "    print(\"Key does not exist\")\n"
   ]
  },
  {
   "cell_type": "code",
   "execution_count": 47,
   "id": "93e24f3f-56c4-46e6-9315-f57b82b1adb7",
   "metadata": {},
   "outputs": [
    {
     "name": "stdout",
     "output_type": "stream",
     "text": [
      "Merged dictionary: {'a': 1, 'b': 2, 'c': 3, 'd': 4}\n"
     ]
    }
   ],
   "source": [
    "#Merge two dictionaries\n",
    "dict1 = {\"a\": 1, \"b\": 2}\n",
    "dict2 = {\"c\": 3, \"d\": 4}\n",
    "merged_dict = {**dict1, **dict2}\n",
    "print(\"Merged dictionary:\", merged_dict)\n"
   ]
  },
  {
   "cell_type": "code",
   "execution_count": 48,
   "id": "cd247c74-5040-44b5-82e3-f1876880edf6",
   "metadata": {},
   "outputs": [
    {
     "name": "stdout",
     "output_type": "stream",
     "text": [
      "Sorted dictionary: {'a': 1, 'b': 2, 'c': 3, 'd': 4}\n"
     ]
    }
   ],
   "source": [
    "#Print dictionary in sorted order based on keys\n",
    "my_dict = {\"b\": 2, \"a\": 1, \"d\": 4, \"c\": 3}\n",
    "sorted_dict = dict(sorted(my_dict.items()))\n",
    "print(\"Sorted dictionary:\", sorted_dict)\n"
   ]
  },
  {
   "cell_type": "code",
   "execution_count": null,
   "id": "ebcc8d62-7240-45cf-88a5-d6e8ea4d9683",
   "metadata": {},
   "outputs": [],
   "source": []
  }
 ],
 "metadata": {
  "kernelspec": {
   "display_name": "Python 3 (ipykernel)",
   "language": "python",
   "name": "python3"
  },
  "language_info": {
   "codemirror_mode": {
    "name": "ipython",
    "version": 3
   },
   "file_extension": ".py",
   "mimetype": "text/x-python",
   "name": "python",
   "nbconvert_exporter": "python",
   "pygments_lexer": "ipython3",
   "version": "3.11.7"
  }
 },
 "nbformat": 4,
 "nbformat_minor": 5
}
