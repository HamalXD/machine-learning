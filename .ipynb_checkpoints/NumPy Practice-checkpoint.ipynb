{
 "cells": [
  {
   "cell_type": "raw",
   "id": "ed1e90b1-7a43-4fec-b8d5-6e1f4c8199b0",
   "metadata": {},
   "source": [
    "pip install numpy"
   ]
  },
  {
   "cell_type": "code",
   "execution_count": 4,
   "id": "906e5f4b-dbf4-41e9-a0ee-202421514969",
   "metadata": {},
   "outputs": [
    {
     "name": "stdout",
     "output_type": "stream",
     "text": [
      "Elements in array: [ 5 10 15 20 25]\n"
     ]
    }
   ],
   "source": [
    "#Creating a NumPy array\n",
    "import numpy as np\n",
    "\n",
    "array = np.array([5, 10, 15, 20, 25])\n",
    "\n",
    "print(\"Elements in array:\", array)"
   ]
  },
  {
   "cell_type": "code",
   "execution_count": 5,
   "id": "5071643d-9d25-478b-ae10-964fbd7c4c32",
   "metadata": {},
   "outputs": [
    {
     "name": "stdout",
     "output_type": "stream",
     "text": [
      "Average of above array is: 15.0\n"
     ]
    }
   ],
   "source": [
    "#Array Operating: Let's find average of above aaray elements\n",
    "average = np.mean(array)\n",
    "print(\"Average of above array is:\", average)"
   ]
  },
  {
   "cell_type": "code",
   "execution_count": 6,
   "id": "ad5c24ca-60f3-4aa3-bda9-43bd2be01415",
   "metadata": {},
   "outputs": [
    {
     "name": "stdout",
     "output_type": "stream",
     "text": [
      "Heights of students: [[100 120 111]\n",
      " [110 105 120]\n",
      " [120 115 130]]\n"
     ]
    }
   ],
   "source": [
    "#Multi Dimentional Array\n",
    "height_cm = np.array([[100,120,111], [110, 105, 120], [120, 115, 130]])\n",
    "print(\"Heights of students:\", height_cm)"
   ]
  },
  {
   "cell_type": "code",
   "execution_count": 16,
   "id": "41cfc8bf-192e-4501-ba24-26221aa42679",
   "metadata": {},
   "outputs": [
    {
     "name": "stdout",
     "output_type": "stream",
     "text": [
      "First bench Student height: [100 120 111]\n",
      "Student height is: 120\n",
      "Last bench student height: [[100 120 111]\n",
      " [110 105 120]]\n"
     ]
    }
   ],
   "source": [
    "#Array Indexing and Slicing\n",
    "first_bench_student_height = height_cm[0]\n",
    "print(\"First bench Student height:\", first_bench_student_height)\n",
    "\n",
    "student_height = height_cm[1][2]\n",
    "print(\"Student height is:\", student_height)\n",
    "\n",
    "last_bench_height = height_cm[:-1]\n",
    "print(\"Last bench student height:\", last_bench_height)"
   ]
  },
  {
   "cell_type": "code",
   "execution_count": 21,
   "id": "1d68f4e1-e188-45b2-9062-53fd73fd77ec",
   "metadata": {},
   "outputs": [
    {
     "name": "stdout",
     "output_type": "stream",
     "text": [
      "Temperaute in fraenheight is:\n",
      " [[68.  77.  84.2]\n",
      " [66.2 73.4 71.6]\n",
      " [64.4 68.  98.6]]\n",
      "Temperaute in Kelvin is:\n",
      " [[293.15 298.15 302.15]\n",
      " [292.15 296.15 295.15]\n",
      " [291.15 293.15 310.15]]\n"
     ]
    }
   ],
   "source": [
    "#Let's convert the temperature from celcius into fraenheight\n",
    "temperature = np.array([[20, 25, 29], [19, 23, 22], [18, 20, 37]])\n",
    "f = (temperature * 9/5) + 32\n",
    "print(\"Temperaute in fraenheight is:\\n\", f)\n",
    "\n",
    "k = (temperature + 273.15)\n",
    "print(\"Temperaute in Kelvin is:\\n\", k)"
   ]
  },
  {
   "cell_type": "code",
   "execution_count": 24,
   "id": "efd6c4ce-845d-47d1-914a-5fe78c8aa35a",
   "metadata": {},
   "outputs": [
    {
     "name": "stdout",
     "output_type": "stream",
     "text": [
      "Total Revenue:\n",
      " [[ 13000  80000]\n",
      " [ 72500 350000]]\n"
     ]
    }
   ],
   "source": [
    "#Linera Algebra\n",
    "sales = np.array([[500, 100, 200], [750, 1000, 1500]])\n",
    "quantity = np.array([[10, 20, 30], [100, 200, 50]])\n",
    "\n",
    "revenue = np.dot(sales, quantity.T)\n",
    "print(\"Total Revenue:\\n\", revenue)"
   ]
  },
  {
   "cell_type": "code",
   "execution_count": 33,
   "id": "a38688d6-18ce-4451-a92d-20d5421caf2a",
   "metadata": {},
   "outputs": [
    {
     "name": "stdout",
     "output_type": "stream",
     "text": [
      "Zeros Matrix 3x3 is:\n",
      " [[0 0 0]\n",
      " [0 0 0]\n",
      " [0 0 0]]\n",
      "Ones Matrix 3x3 is:\n",
      " [[1 1 1]\n",
      " [1 1 1]\n",
      " [1 1 1]]\n",
      "Ones Matrix 5x5 is:\n",
      " [[1 0 0 0 0]\n",
      " [0 1 0 0 0]\n",
      " [0 0 1 0 0]\n",
      " [0 0 0 1 0]\n",
      " [0 0 0 0 1]]\n"
     ]
    }
   ],
   "source": [
    "#Zeros and ones (matrix)\n",
    "\n",
    "#Zeros\n",
    "print(\"Zeros Matrix 3x3 is:\\n\", np.zeros((3,3), dtype = int))\n",
    "\n",
    "#Ones\n",
    "print(\"Ones Matrix 3x3 is:\\n\", np.ones((3,3), dtype = int))\n",
    "\n",
    "#Zeros and Ones\n",
    "print(\"Ones Matrix 5x5 is:\\n\", np.eye(5, dtype = int))\n"
   ]
  },
  {
   "cell_type": "code",
   "execution_count": 39,
   "id": "89a8d8c0-95e0-4ca4-9fef-fec8339b15e3",
   "metadata": {},
   "outputs": [
    {
     "name": "stdout",
     "output_type": "stream",
     "text": [
      "1D array:\n",
      " [0 1 2 3 4 5 6 7 8 9]\n",
      "\n",
      " 2D Array:\n",
      " [[1 2 3]\n",
      " [4 5 6]\n",
      " [7 8 9]]\n"
     ]
    }
   ],
   "source": [
    "#Creating a 1D NumPy array values ranging from 0 to 9\n",
    "array_1D = np.arange(10)\n",
    "print(\"1D array:\\n\",array_1D)\n",
    "\n",
    "#Create a 2D NumPy array with the shape (3,3) containing values from 0 to 9\n",
    "array_2D = np.arange(1, 10).reshape(3,3)\n",
    "print(\"\\n 2D Array:\\n\", array_2D)"
   ]
  },
  {
   "cell_type": "code",
   "execution_count": 40,
   "id": "0f0068f5-eb0b-47ed-9845-bfe72e25c8f1",
   "metadata": {},
   "outputs": [
    {
     "name": "stdout",
     "output_type": "stream",
     "text": [
      "[5 7 9] [-3 -3 -3] [ 4 10 18] [0.25 0.4  0.5 ]\n"
     ]
    }
   ],
   "source": [
    "#Perform element-wise addition, subtracion, multiplication and division\n",
    "array1 = np.array([1,2,3])\n",
    "array2 = np.array([4,5,6])\n",
    "\n",
    "addition = array1 + array2\n",
    "subtraction = array1 - array2\n",
    "multiplication = array1 * array2\n",
    "division = array1 / array2\n",
    "\n",
    "print(addition, subtraction, multiplication, division)"
   ]
  },
  {
   "cell_type": "code",
   "execution_count": null,
   "id": "3e6d323d-b565-474f-a135-03db6e32a0f8",
   "metadata": {},
   "outputs": [],
   "source": []
  }
 ],
 "metadata": {
  "kernelspec": {
   "display_name": "Python 3 (ipykernel)",
   "language": "python",
   "name": "python3"
  },
  "language_info": {
   "codemirror_mode": {
    "name": "ipython",
    "version": 3
   },
   "file_extension": ".py",
   "mimetype": "text/x-python",
   "name": "python",
   "nbconvert_exporter": "python",
   "pygments_lexer": "ipython3",
   "version": "3.11.7"
  }
 },
 "nbformat": 4,
 "nbformat_minor": 5
}
