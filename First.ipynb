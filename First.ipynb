{
 "cells": [
  {
   "cell_type": "code",
   "execution_count": 1,
   "id": "6ace9378-57ab-4809-84c7-2e517084d4bd",
   "metadata": {},
   "outputs": [
    {
     "name": "stdout",
     "output_type": "stream",
     "text": [
      "This can print strings\n",
      "4\n"
     ]
    }
   ],
   "source": [
    "print (\"This can print strings\")\n",
    "print(4)"
   ]
  },
  {
   "cell_type": "code",
   "execution_count": 2,
   "id": "71aaaaf4-ac39-41ae-84ff-a21e6b0198d2",
   "metadata": {},
   "outputs": [
    {
     "name": "stdout",
     "output_type": "stream",
     "text": [
      "Name 16\n"
     ]
    }
   ],
   "source": [
    "x = 16\n",
    "y = \"Name\"\n",
    "\n",
    "print (y, x) "
   ]
  },
  {
   "cell_type": "code",
   "execution_count": 3,
   "id": "dd320a2d-842d-4497-86d3-edbde803a15d",
   "metadata": {},
   "outputs": [
    {
     "name": "stdout",
     "output_type": "stream",
     "text": [
      "Name is 16 years old\n"
     ]
    }
   ],
   "source": [
    "print(f\"{y} is {x} years old\")"
   ]
  },
  {
   "cell_type": "code",
   "execution_count": 4,
   "id": "d4c26f87-ebb8-4c02-8826-3e098f0e123f",
   "metadata": {},
   "outputs": [
    {
     "name": "stdout",
     "output_type": "stream",
     "text": [
      "Name is 16 years old\n"
     ]
    }
   ],
   "source": [
    "print(f\"{y} is {x} years old\" .format(y,x))"
   ]
  },
  {
   "cell_type": "code",
   "execution_count": 9,
   "id": "d88b1e1b-285c-4135-8902-a87d2f66b824",
   "metadata": {},
   "outputs": [
    {
     "name": "stdout",
     "output_type": "stream",
     "text": [
      "Name is 16 years old\n"
     ]
    }
   ],
   "source": [
    "print(y + \" is \" + str(x) + \" years old\")"
   ]
  },
  {
   "cell_type": "code",
   "execution_count": 12,
   "id": "9e8898af-bfe6-4e24-b204-bd8828f2618a",
   "metadata": {},
   "outputs": [
    {
     "name": "stdout",
     "output_type": "stream",
     "text": [
      "Name is 16 years old.\n"
     ]
    }
   ],
   "source": [
    "print( \"%s is %d years old.\" %(y,x))"
   ]
  },
  {
   "cell_type": "code",
   "execution_count": 17,
   "id": "92a28262-9fb6-4c43-ae76-48274e0f3d0e",
   "metadata": {},
   "outputs": [
    {
     "name": "stdout",
     "output_type": "stream",
     "text": [
      "60 -40 500 10\n",
      "Addition = 60,Subraction = -40, Multiplication = 500,Remainder = 10, Division = 0.2\n"
     ]
    }
   ],
   "source": [
    "x = 10\n",
    "y = 50\n",
    "\n",
    "a = x + y\n",
    "b = x - y\n",
    "c = x * y\n",
    "d = x % y\n",
    "e = x / y\n",
    "\n",
    "print(a, b, c, d)\n",
    "print(f\"Addition = {a},Subraction = {b}, Multiplication = {c},Remainder = {d}, Division = {e}\")"
   ]
  },
  {
   "cell_type": "code",
   "execution_count": 20,
   "id": "1554c611-c69c-4910-914c-2c364ff6559d",
   "metadata": {},
   "outputs": [
    {
     "name": "stdout",
     "output_type": "stream",
     "text": [
      "Single Quoted String: Python is Awesome\n"
     ]
    }
   ],
   "source": [
    "single_quoted_string = \"Python is Awesome\"\n",
    "print(\"Single Quoted String:\" , single_quoted_string)"
   ]
  },
  {
   "cell_type": "code",
   "execution_count": 23,
   "id": "f5660302-2755-4fae-bc64-79ee9e322704",
   "metadata": {},
   "outputs": [
    {
     "name": "stdout",
     "output_type": "stream",
     "text": [
      "Double Quoted String: Im Learning Python\n"
     ]
    }
   ],
   "source": [
    "double_quoted_string = \"Im Learning Python\"\n",
    "print(\"Double Quoted String:\" , double_quoted_string)"
   ]
  },
  {
   "cell_type": "code",
   "execution_count": 25,
   "id": "41eac877-0502-4292-a649-956139cb157f",
   "metadata": {},
   "outputs": [
    {
     "name": "stdout",
     "output_type": "stream",
     "text": [
      "Concatinated String is: Python is Awesome Im Learning Python\n"
     ]
    }
   ],
   "source": [
    "concatenated_string = single_quoted_string + \" \" + double_quoted_string\n",
    "print(\"Concatinated String is:\" , concatenated_string)"
   ]
  },
  {
   "cell_type": "code",
   "execution_count": 27,
   "id": "ee467d2d-9851-4e1a-8e9e-b1d1da9ba7f8",
   "metadata": {},
   "outputs": [
    {
     "name": "stdout",
     "output_type": "stream",
     "text": [
      "PYTHON IS AWESOME IM LEARNING PYTHON python is awesome im learning python\n"
     ]
    }
   ],
   "source": [
    "uppercase_string = concatenated_string.upper()\n",
    "lowercase_string = concatenated_string.lower()\n",
    "\n",
    "print(uppercase_string, lowercase_string)"
   ]
  },
  {
   "cell_type": "code",
   "execution_count": 2,
   "id": "938358c7-458d-4720-b094-6ccfd3a09d09",
   "metadata": {},
   "outputs": [
    {
     "name": "stdout",
     "output_type": "stream",
     "text": [
      "Sliced words are ersity\n"
     ]
    }
   ],
   "source": [
    "word = \"University of Sunderland\"\n",
    "slice_word = word[4: 10]\n",
    "print(\"Sliced words are\" , slice_word)"
   ]
  },
  {
   "cell_type": "code",
   "execution_count": 7,
   "id": "18597c64-e5f7-482a-888d-3d9520291b53",
   "metadata": {},
   "outputs": [
    {
     "name": "stdout",
     "output_type": "stream",
     "text": [
      "    Pokhara University\n",
      "Pokhara University\n"
     ]
    }
   ],
   "source": [
    "word_space = \"    Pokhara University\"\n",
    "print(word_space)\n",
    "\n",
    "remove_space = word_space.strip()\n",
    "print(remove_space)"
   ]
  },
  {
   "cell_type": "code",
   "execution_count": 10,
   "id": "221a02b1-8c19-4fb3-8953-53e9391b58cd",
   "metadata": {},
   "outputs": [
    {
     "name": "stdout",
     "output_type": "stream",
     "text": [
      "['Kali', 'Linux', 'is', 'used', 'for', 'Hacking']\n",
      "Kali Linux is used for Hacking\n"
     ]
    }
   ],
   "source": [
    "word_list = [\"Kali\", \"Linux\", \"is\", \"used\", \"for\", \"Hacking\"]\n",
    "print(word_list)\n",
    "\n",
    "sentence = \" \".join(word_list)\n",
    "print(sentence)"
   ]
  },
  {
   "cell_type": "code",
   "execution_count": 12,
   "id": "bc00d14d-2f57-4492-8cef-a75ebdecb59d",
   "metadata": {},
   "outputs": [
    {
     "name": "stdout",
     "output_type": "stream",
     "text": [
      "Cyber Security, World\n"
     ]
    }
   ],
   "source": [
    "world_list = \"Hello, World\"\n",
    "replace_string = world_list.replace(\"Hello\", \"Cyber Security\")\n",
    "print(replace_string)"
   ]
  },
  {
   "cell_type": "code",
   "execution_count": 13,
   "id": "d6ea6716-57bb-4f0e-93c6-b581eff87ef2",
   "metadata": {},
   "outputs": [
    {
     "name": "stdout",
     "output_type": "stream",
     "text": [
      "Index of 'course': 46\n"
     ]
    }
   ],
   "source": [
    "word = \"Python is Awesome!! I'm learning python crash course\"\n",
    "index = word.find(\"course\")\n",
    "\n",
    "print(\"Index of 'course':\" , index)"
   ]
  },
  {
   "cell_type": "code",
   "execution_count": 20,
   "id": "a3535117-c924-4e91-bde9-947fe9bf7044",
   "metadata": {},
   "outputs": [
    {
     "name": "stdout",
     "output_type": "stream",
     "text": [
      "['Hami Tin Bhai', 'Papi Manchey', 'Andi Pusush', 'Animal', 'Hera Pheri']\n",
      "Accesing an element: Animal\n",
      "5\n"
     ]
    }
   ],
   "source": [
    "fav_movie = [\"Hami Tin Bhai\", \"Papi Manchey\", \"Andi Pusush\", \"Animal\", \"Hera Pheri\"]\n",
    "print(fav_movie)\n",
    "\n",
    "print(\"Accesing an element:\", fav_movie[3])\n",
    "print(len(fav_movie))"
   ]
  },
  {
   "cell_type": "code",
   "execution_count": 23,
   "id": "4ec28322-386e-4f21-9ab7-6aec819924e9",
   "metadata": {},
   "outputs": [
    {
     "name": "stdout",
     "output_type": "stream",
     "text": [
      "['Apple', 'Banana', 'Cherry', 'Dragon Fruit']\n",
      "[5, 10, 15, 20, 25]\n",
      "[True, False, True, False]\n",
      "['Apple', True, 4]\n",
      "<class 'list'>\n"
     ]
    }
   ],
   "source": [
    "list1 = [\"Apple\", \"Banana\", \"Cherry\", \"Dragon Fruit\"]\n",
    "list2 = [5, 10, 15, 20, 25]\n",
    "list3 = [True, False, True, False]\n",
    "list4 = [\"Apple\", True, 4]\n",
    "\n",
    "print(list1)\n",
    "print(list2)\n",
    "print(list3)\n",
    "print(list4)\n",
    "\n",
    "print(type(list3))"
   ]
  },
  {
   "cell_type": "code",
   "execution_count": 28,
   "id": "baf7135f-e25e-4c35-b525-2156a3994dfc",
   "metadata": {},
   "outputs": [
    {
     "name": "stdout",
     "output_type": "stream",
     "text": [
      "['One Piece', 'Lord of the Rings', [9, 10]]\n",
      "IMBD Rating LOR: 10\n"
     ]
    }
   ],
   "source": [
    "nested_list = [\"One Piece\", \"Lord of the Rings\", [9, 10]]\n",
    "print(nested_list)\n",
    "print(\"IMBD Rating LOR:\", nested_list[2][1])"
   ]
  },
  {
   "cell_type": "code",
   "execution_count": 38,
   "id": "40f0e419-427d-4c79-9069-2cf260ed0ab0",
   "metadata": {},
   "outputs": [
    {
     "name": "stdout",
     "output_type": "stream",
     "text": [
      "{'Name': 'Hamal', 'Department': 'Computer Engineering', 'Age': 21}\n",
      "Students name is: Hamal\n",
      "{'Name': 'Hamal', 'Department': 'Computer Engineering', 'Age': 21}\n"
     ]
    }
   ],
   "source": [
    "student = {\n",
    "    \"Name\": \"Hamal\",\n",
    "    \"Department\": \"Computer Engineering\",\n",
    "    \"Age\": 21\n",
    "}\n",
    "\n",
    "print(student)\n",
    "print(\"Students name is:\", student[\"Name\"])"
   ]
  },
  {
   "cell_type": "code",
   "execution_count": 40,
   "id": "820238da-6c7a-474b-9eec-11840355aa94",
   "metadata": {},
   "outputs": [
    {
     "name": "stdout",
     "output_type": "stream",
     "text": [
      "{'Name': 'Hamal', 'Department': 'Computer Engineering', 'Age': 21, 'Year': 2022}\n"
     ]
    }
   ],
   "source": [
    "student[\"Year\"] = 2022\n",
    "print(repr(student))"
   ]
  },
  {
   "cell_type": "code",
   "execution_count": 42,
   "id": "400b0c3b-18f3-4c37-94f8-4acff1ee98eb",
   "metadata": {},
   "outputs": [
    {
     "name": "stdout",
     "output_type": "stream",
     "text": [
      "{'Name': 'Hamal', 'Department': 'Computer Engineering', 'Age': 21}\n"
     ]
    }
   ],
   "source": [
    "if \"Year\" in student:\n",
    "    del student[\"Year\"]\n",
    "\n",
    "print(student)"
   ]
  },
  {
   "cell_type": "code",
   "execution_count": 45,
   "id": "2cceaa47-3deb-4bd6-b373-ef60b8323f52",
   "metadata": {},
   "outputs": [
    {
     "name": "stdout",
     "output_type": "stream",
     "text": [
      "{'name': 'Tesla', 'company': 'Tesla', 'price': 100}\n"
     ]
    }
   ],
   "source": [
    "car_list = dict(name=\"Tesla\", company=\"Tesla\", price=100)\n",
    "print(car_list)"
   ]
  },
  {
   "cell_type": "code",
   "execution_count": null,
   "id": "c510149d-2cef-4a2f-9a95-7930c58955ed",
   "metadata": {},
   "outputs": [],
   "source": []
  }
 ],
 "metadata": {
  "kernelspec": {
   "display_name": "Python 3 (ipykernel)",
   "language": "python",
   "name": "python3"
  },
  "language_info": {
   "codemirror_mode": {
    "name": "ipython",
    "version": 3
   },
   "file_extension": ".py",
   "mimetype": "text/x-python",
   "name": "python",
   "nbconvert_exporter": "python",
   "pygments_lexer": "ipython3",
   "version": "3.11.7"
  }
 },
 "nbformat": 4,
 "nbformat_minor": 5
}
