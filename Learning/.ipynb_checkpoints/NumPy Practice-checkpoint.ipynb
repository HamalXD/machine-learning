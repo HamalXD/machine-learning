{
 "cells": [
  {
   "cell_type": "code",
   "execution_count": 4,
   "id": "906e5f4b-dbf4-41e9-a0ee-202421514969",
   "metadata": {},
   "outputs": [
    {
     "name": "stdout",
     "output_type": "stream",
     "text": [
      "Elements in array: [ 5 10 15 20 25]\n"
     ]
    }
   ],
   "source": [
    "#Creating a NumPy array\n",
    "import numpy as np\n",
    "\n",
    "array = np.array([5, 10, 15, 20, 25])\n",
    "\n",
    "print(\"Elements in array:\", array)"
   ]
  },
  {
   "cell_type": "code",
   "execution_count": 5,
   "id": "5071643d-9d25-478b-ae10-964fbd7c4c32",
   "metadata": {},
   "outputs": [
    {
     "name": "stdout",
     "output_type": "stream",
     "text": [
      "Average of above array is: 15.0\n"
     ]
    }
   ],
   "source": [
    "#Array Operating: Let's find average of above aaray elements\n",
    "average = np.mean(array)\n",
    "print(\"Average of above array is:\", average)"
   ]
  },
  {
   "cell_type": "code",
   "execution_count": 6,
   "id": "ad5c24ca-60f3-4aa3-bda9-43bd2be01415",
   "metadata": {},
   "outputs": [
    {
     "name": "stdout",
     "output_type": "stream",
     "text": [
      "Heights of students: [[100 120 111]\n",
      " [110 105 120]\n",
      " [120 115 130]]\n"
     ]
    }
   ],
   "source": [
    "#Multi Dimentional Array\n",
    "height_cm = np.array([[100,120,111], [110, 105, 120], [120, 115, 130]])\n",
    "print(\"Heights of students:\", height_cm)"
   ]
  },
  {
   "cell_type": "code",
   "execution_count": 16,
   "id": "41cfc8bf-192e-4501-ba24-26221aa42679",
   "metadata": {},
   "outputs": [
    {
     "name": "stdout",
     "output_type": "stream",
     "text": [
      "First bench Student height: [100 120 111]\n",
      "Student height is: 120\n",
      "Last bench student height: [[100 120 111]\n",
      " [110 105 120]]\n"
     ]
    }
   ],
   "source": [
    "#Array Indexing and Slicing\n",
    "first_bench_student_height = height_cm[0]\n",
    "print(\"First bench Student height:\", first_bench_student_height)\n",
    "\n",
    "student_height = height_cm[1][2]\n",
    "print(\"Student height is:\", student_height)\n",
    "\n",
    "last_bench_height = height_cm[:-1]\n",
    "print(\"Last bench student height:\", last_bench_height)"
   ]
  },
  {
   "cell_type": "code",
   "execution_count": 21,
   "id": "1d68f4e1-e188-45b2-9062-53fd73fd77ec",
   "metadata": {},
   "outputs": [
    {
     "name": "stdout",
     "output_type": "stream",
     "text": [
      "Temperaute in fraenheight is:\n",
      " [[68.  77.  84.2]\n",
      " [66.2 73.4 71.6]\n",
      " [64.4 68.  98.6]]\n",
      "Temperaute in Kelvin is:\n",
      " [[293.15 298.15 302.15]\n",
      " [292.15 296.15 295.15]\n",
      " [291.15 293.15 310.15]]\n"
     ]
    }
   ],
   "source": [
    "#Let's convert the temperature from celcius into fraenheight\n",
    "temperature = np.array([[20, 25, 29], [19, 23, 22], [18, 20, 37]])\n",
    "f = (temperature * 9/5) + 32\n",
    "print(\"Temperaute in fraenheight is:\\n\", f)\n",
    "\n",
    "k = (temperature + 273.15)\n",
    "print(\"Temperaute in Kelvin is:\\n\", k)"
   ]
  },
  {
   "cell_type": "code",
   "execution_count": 24,
   "id": "efd6c4ce-845d-47d1-914a-5fe78c8aa35a",
   "metadata": {},
   "outputs": [
    {
     "name": "stdout",
     "output_type": "stream",
     "text": [
      "Total Revenue:\n",
      " [[ 13000  80000]\n",
      " [ 72500 350000]]\n"
     ]
    }
   ],
   "source": [
    "#Linera Algebra\n",
    "sales = np.array([[500, 100, 200], [750, 1000, 1500]])\n",
    "quantity = np.array([[10, 20, 30], [100, 200, 50]])\n",
    "\n",
    "revenue = np.dot(sales, quantity.T)\n",
    "print(\"Total Revenue:\\n\", revenue)"
   ]
  },
  {
   "cell_type": "code",
   "execution_count": 33,
   "id": "a38688d6-18ce-4451-a92d-20d5421caf2a",
   "metadata": {},
   "outputs": [
    {
     "name": "stdout",
     "output_type": "stream",
     "text": [
      "Zeros Matrix 3x3 is:\n",
      " [[0 0 0]\n",
      " [0 0 0]\n",
      " [0 0 0]]\n",
      "Ones Matrix 3x3 is:\n",
      " [[1 1 1]\n",
      " [1 1 1]\n",
      " [1 1 1]]\n",
      "Ones Matrix 5x5 is:\n",
      " [[1 0 0 0 0]\n",
      " [0 1 0 0 0]\n",
      " [0 0 1 0 0]\n",
      " [0 0 0 1 0]\n",
      " [0 0 0 0 1]]\n"
     ]
    }
   ],
   "source": [
    "#Zeros and ones (matrix)\n",
    "\n",
    "#Zeros\n",
    "print(\"Zeros Matrix 3x3 is:\\n\", np.zeros((3,3), dtype = int))\n",
    "\n",
    "#Ones\n",
    "print(\"Ones Matrix 3x3 is:\\n\", np.ones((3,3), dtype = int))\n",
    "\n",
    "#Zeros and Ones\n",
    "print(\"Ones Matrix 5x5 is:\\n\", np.eye(5, dtype = int))\n"
   ]
  },
  {
   "cell_type": "code",
   "execution_count": 39,
   "id": "89a8d8c0-95e0-4ca4-9fef-fec8339b15e3",
   "metadata": {},
   "outputs": [
    {
     "name": "stdout",
     "output_type": "stream",
     "text": [
      "1D array:\n",
      " [0 1 2 3 4 5 6 7 8 9]\n",
      "\n",
      " 2D Array:\n",
      " [[1 2 3]\n",
      " [4 5 6]\n",
      " [7 8 9]]\n"
     ]
    }
   ],
   "source": [
    "#Creating a 1D NumPy array values ranging from 0 to 9\n",
    "array_1D = np.arange(10)\n",
    "print(\"1D array:\\n\",array_1D)\n",
    "\n",
    "#Create a 2D NumPy array with the shape (3,3) containing values from 0 to 9\n",
    "array_2D = np.arange(1, 10).reshape(3,3)\n",
    "print(\"\\n 2D Array:\\n\", array_2D)"
   ]
  },
  {
   "cell_type": "code",
   "execution_count": 40,
   "id": "0f0068f5-eb0b-47ed-9845-bfe72e25c8f1",
   "metadata": {},
   "outputs": [
    {
     "name": "stdout",
     "output_type": "stream",
     "text": [
      "[5 7 9] [-3 -3 -3] [ 4 10 18] [0.25 0.4  0.5 ]\n"
     ]
    }
   ],
   "source": [
    "#Perform element-wise addition, subtracion, multiplication and division\n",
    "array1 = np.array([1,2,3])\n",
    "array2 = np.array([4,5,6])\n",
    "\n",
    "addition = array1 + array2\n",
    "subtraction = array1 - array2\n",
    "multiplication = array1 * array2\n",
    "division = array1 / array2\n",
    "\n",
    "print(addition, subtraction, multiplication, division)"
   ]
  },
  {
   "cell_type": "code",
   "execution_count": 2,
   "id": "3e6d323d-b565-474f-a135-03db6e32a0f8",
   "metadata": {},
   "outputs": [
    {
     "name": "stdout",
     "output_type": "stream",
     "text": [
      "\n",
      "Mean 41.666666666666664\n",
      "\n",
      "Median 35.0\n",
      "\n",
      "Standard Deviation 29.1070819942883\n",
      "\n",
      "Variance 847.2222222222222\n"
     ]
    }
   ],
   "source": [
    "#Calculating the mean, median, standard deviation and variance of 1D array\n",
    "import numpy as np\n",
    "\n",
    "array = np.array([10, 20, 30, 40, 50, 100])\n",
    "mean = np.mean(array)\n",
    "median = np.median(array)\n",
    "std_dev = np.std(array)\n",
    "variance = np.var(array)\n",
    "\n",
    "print(\"\\nMean\", mean)\n",
    "print(\"\\nMedian\", median)\n",
    "print(\"\\nStandard Deviation\", std_dev)\n",
    "print(\"\\nVariance\", variance)"
   ]
  },
  {
   "cell_type": "code",
   "execution_count": 3,
   "id": "7c51b019-63ae-4dda-a63b-94f3a6f66aa6",
   "metadata": {},
   "outputs": [
    {
     "name": "stdout",
     "output_type": "stream",
     "text": [
      "\n",
      "Elements that are greater than 70 are: [ 90 150 200]\n"
     ]
    }
   ],
   "source": [
    "import numpy as np\n",
    "\n",
    "#Logical Operations\n",
    "\n",
    "\n",
    "#Given array [20, 50, 70, 90, 150, 200]\n",
    "\n",
    "\n",
    "#Return an array with elements that are greater than 70\n",
    "array = np.array([20, 50, 70, 90, 150, 200])\n",
    "result = array [array > 70]\n",
    "print (\"\\nElements that are greater than 70 are:\", result)"
   ]
  },
  {
   "cell_type": "code",
   "execution_count": 4,
   "id": "0a89c12b-680a-4d1d-82ae-c56b6fa650a6",
   "metadata": {},
   "outputs": [
    {
     "name": "stdout",
     "output_type": "stream",
     "text": [
      "3x3 matrix is:\n",
      " [[0.59494783 0.94077363 0.14846474]\n",
      " [0.89850197 0.01457643 0.74143691]\n",
      " [0.38743379 0.41178945 0.9623904 ]]\n"
     ]
    }
   ],
   "source": [
    "#Create 3x3 matrix with random values between 0 and 1\n",
    "random_matrix = np.random.random((3,3))\n",
    "print (\"3x3 matrix is:\\n\", random_matrix)"
   ]
  },
  {
   "cell_type": "code",
   "execution_count": 7,
   "id": "c1e7af57-18fd-49dd-a90a-11719f83029c",
   "metadata": {},
   "outputs": [
    {
     "name": "stdout",
     "output_type": "stream",
     "text": [
      "[[70 60 51]\n",
      " [59 78 65]\n",
      " [50 70 66]]\n",
      "\n",
      "Lets's multiply given matrix by sclar value of 10:\n",
      "[[700 600 510]\n",
      " [590 780 650]\n",
      " [500 700 660]]\n"
     ]
    }
   ],
   "source": [
    "#Create an array of 10 random integeres between 50 and 100\n",
    "random_int_matrix = np.random.randint(50, 100, 9).reshape(3,3)\n",
    "print(random_int_matrix)\n",
    "\n",
    "print(\"\\nLets's multiply given matrix by sclar value of 10:\")\n",
    "result = random_int_matrix * 10\n",
    "print(result)"
   ]
  },
  {
   "cell_type": "code",
   "execution_count": 9,
   "id": "83e6eedb-ea05-4f6e-a69c-c19483c4c216",
   "metadata": {},
   "outputs": [
    {
     "name": "stdout",
     "output_type": "stream",
     "text": [
      "[10. 20. nan 50. 70. nan]\n",
      "Mean: 37.5\n"
     ]
    }
   ],
   "source": [
    "#Create an array with some missing values(NaNs) and calculate the mean, importing NaNs\n",
    "array_with_missing_values = np.array([10, 20, np.nan, 50, 70, np.nan])\n",
    "print(array_with_missing_values)\n",
    "\n",
    "mean = np.nanmean(array_with_missing_values)\n",
    "print(\"Mean:\", mean)"
   ]
  },
  {
   "cell_type": "code",
   "execution_count": 11,
   "id": "34d040e8-146d-4f3b-af82-e2e61b9fff17",
   "metadata": {},
   "outputs": [
    {
     "name": "stdout",
     "output_type": "stream",
     "text": [
      "[ 0.0000000e+00  1.0000000e+00  1.2246468e-16 -1.0000000e+00\n",
      " -2.4492936e-16]\n"
     ]
    }
   ],
   "source": [
    "#Apply the sine function to each element in the array\n",
    "#[0, pi/2, pi, 3*pi/2, 2*pi]\n",
    "sine_array = np.array([0, np.pi/2, np.pi, 3*np.pi/2, 2*np.pi])\n",
    "sine_values = np.sin(sine_array)\n",
    "print(sine_values)"
   ]
  },
  {
   "cell_type": "code",
   "execution_count": 13,
   "id": "71ec2a3a-aa26-46e9-9206-6fd566ecdc93",
   "metadata": {},
   "outputs": [
    {
     "name": "stdout",
     "output_type": "stream",
     "text": [
      "[ 1  3  5  6  8 10 19 20 34 88]\n"
     ]
    }
   ],
   "source": [
    "#FI\\ind the unique elements in an array\n",
    "repeated_array = np.array([1, 1, 10, 3, 3, 5, 6, 6, 88, 8, 19, 20, 34])\n",
    "unique_values = np.unique(repeated_array)\n",
    "print(unique_values)"
   ]
  },
  {
   "cell_type": "code",
   "execution_count": 15,
   "id": "e2fa9afe-8e22-48bf-a069-19eb573d46e5",
   "metadata": {},
   "outputs": [
    {
     "name": "stdout",
     "output_type": "stream",
     "text": [
      "[  1   2  21  32  40  90 100 150 200]\n"
     ]
    }
   ],
   "source": [
    "#Sorting the array in ascending order\n",
    "unsorted_array = np.array([100, 200, 150, 2, 40, 21, 32, 90, 1])\n",
    "sorted_array = np.sort(unsorted_array)\n",
    "print(sorted_array)"
   ]
  },
  {
   "cell_type": "code",
   "execution_count": 22,
   "id": "7afd728b-4058-48d1-bca4-81d028eb81fd",
   "metadata": {},
   "outputs": [
    {
     "name": "stdout",
     "output_type": "stream",
     "text": [
      "[1]\n",
      "[[0.93632444 0.76566523 0.33379652]\n",
      " [0.04692836 0.95219085 0.26150552]]\n",
      "Shape of 1D array: (1,)\n",
      "Shape of 2D array: (2, 3)\n",
      "Shape of 3D array: (4, 9, 7)\n",
      "Size of 1D array: 1\n",
      "Size of 2D array: 6\n",
      "Size of 3D array: 252\n",
      "Dimension of 1D array: 1\n",
      "Dimension of 2D array: 2\n",
      "Dimension of 3D array: 3\n"
     ]
    }
   ],
   "source": [
    "#Find the shape, sized, and the number of dimension in an array\n",
    "array_1D = np.array([1]) \n",
    "array_2D = np.random.random([2, 3])\n",
    "array_3D = np.random.random([4, 9, 7])\n",
    "print(array_1D)\n",
    "print(array_2D)\n",
    "\n",
    "#Shape of the array\n",
    "shape_1D = array_1D.shape\n",
    "shape_2D = array_2D.shape\n",
    "shape_3D = array_3D.shape\n",
    "\n",
    "print(\"Shape of 1D array:\", shape_1D)\n",
    "print(\"Shape of 2D array:\", shape_2D)\n",
    "print(\"Shape of 3D array:\", shape_3D)\n",
    "\n",
    "\n",
    "#Size of the array\n",
    "size_1D = array_1D.size\n",
    "size_2D = array_2D.size\n",
    "size_3D = array_3D.size\n",
    "\n",
    "print(\"Size of 1D array:\",size_1D)\n",
    "print(\"Size of 2D array:\",size_2D)\n",
    "print(\"Size of 3D array:\",size_3D)\n",
    "\n",
    "#Dimension\n",
    "dimension_1D = array_1D.ndim\n",
    "dimension_2D = array_2D.ndim\n",
    "dimension_3D = array_3D.ndim\n",
    "\n",
    "print(\"Dimension of 1D array:\", dimension_1D)\n",
    "print(\"Dimension of 2D array:\", dimension_2D)\n",
    "print(\"Dimension of 3D array:\", dimension_3D)"
   ]
  },
  {
   "cell_type": "code",
   "execution_count": 22,
   "id": "924edfb9-07bd-406f-9758-e5214c115193",
   "metadata": {},
   "outputs": [
    {
     "name": "stdout",
     "output_type": "stream",
     "text": [
      "[1]\n",
      "[[0.93632444 0.76566523 0.33379652]\n",
      " [0.04692836 0.95219085 0.26150552]]\n",
      "Shape of 1D array: (1,)\n",
      "Shape of 2D array: (2, 3)\n",
      "Shape of 3D array: (4, 9, 7)\n",
      "Size of 1D array: 1\n",
      "Size of 2D array: 6\n",
      "Size of 3D array: 252\n",
      "Dimension of 1D array: 1\n",
      "Dimension of 2D array: 2\n",
      "Dimension of 3D array: 3\n"
     ]
    }
   ],
   "source": [
    "#Find the shape, sized, and the number of dimension in an array\n",
    "array_1D = np.array([1]) \n",
    "array_2D = np.random.random([2, 3])\n",
    "array_3D = np.random.random([4, 9, 7])\n",
    "print(array_1D)\n",
    "print(array_2D)\n",
    "\n",
    "#Shape of the array\n",
    "shape_1D = array_1D.shape\n",
    "shape_2D = array_2D.shape\n",
    "shape_3D = array_3D.shape\n",
    "\n",
    "print(\"Shape of 1D array:\", shape_1D)\n",
    "print(\"Shape of 2D array:\", shape_2D)\n",
    "print(\"Shape of 3D array:\", shape_3D)\n",
    "\n",
    "\n",
    "#Size of the array\n",
    "size_1D = array_1D.size\n",
    "size_2D = array_2D.size\n",
    "size_3D = array_3D.size\n",
    "\n",
    "print(\"Size of 1D array:\",size_1D)\n",
    "print(\"Size of 2D array:\",size_2D)\n",
    "print(\"Size of 3D array:\",size_3D)\n",
    "\n",
    "#Dimension\n",
    "dimension_1D = array_1D.ndim\n",
    "dimension_2D = array_2D.ndim\n",
    "dimension_3D = array_3D.ndim\n",
    "\n",
    "print(\"Dimension of 1D array:\", dimension_1D)\n",
    "print(\"Dimension of 2D array:\", dimension_2D)\n",
    "print(\"Dimension of 3D array:\", dimension_3D)"
   ]
  },
  {
   "cell_type": "code",
   "execution_count": 25,
   "id": "e81edd69-6888-4bfd-9478-e52dbcb45bbb",
   "metadata": {},
   "outputs": [
    {
     "ename": "ModuleNotFoundError",
     "evalue": "No module named 'request'",
     "output_type": "error",
     "traceback": [
      "\u001b[1;31m---------------------------------------------------------------------------\u001b[0m",
      "\u001b[1;31mModuleNotFoundError\u001b[0m                       Traceback (most recent call last)",
      "Cell \u001b[1;32mIn[25], line 2\u001b[0m\n\u001b[0;32m      1\u001b[0m \u001b[38;5;66;03m#Web Scraping\u001b[39;00m\n\u001b[1;32m----> 2\u001b[0m \u001b[38;5;28;01mimport\u001b[39;00m \u001b[38;5;21;01mrequest\u001b[39;00m\n\u001b[0;32m      3\u001b[0m \u001b[38;5;28;01mfrom\u001b[39;00m \u001b[38;5;21;01mbs4\u001b[39;00m \u001b[38;5;28;01mimport\u001b[39;00m BeautifulSoup\n\u001b[0;32m      5\u001b[0m \u001b[38;5;66;03m#Define a function\u001b[39;00m\n",
      "\u001b[1;31mModuleNotFoundError\u001b[0m: No module named 'request'"
     ]
    }
   ],
   "source": [
    "#Web Scraping\n",
    "import request\n",
    "from bs4 import BeautifulSoup\n",
    "\n",
    "#Define a function\n",
    "def scraping_headings(url):\n",
    "    #Send a GET request to the url\n",
    "    response = requests.get(url)\n",
    "    #Parse the HTML content using BeauBeautifulSoup\n",
    "    soup = BeautifulSoup(response.content, \"html.praser\")\n",
    "    #Find all the headings elements\n",
    "    headings = soup.find.all([\"h1\", \"h2\", \"h3\", \"h4\", \"h5\"])\n",
    "\n",
    "    #Print the text of each heading\n",
    "    for heading in headings:\n",
    "        print(heading.text.strip())\n",
    "\n",
    "#Prompt the user to enter the url\n",
    "input_url = input(\"Enter the URL to scarep\")\n",
    "\n",
    "#Call the scrape_headings function with input url\n",
    "scraping_headings(input_url)"
   ]
  },
  {
   "cell_type": "code",
   "execution_count": 26,
   "id": "4981c842-9873-4a86-aff5-cb7f38bd2bd2",
   "metadata": {},
   "outputs": [
    {
     "name": "stdout",
     "output_type": "stream",
     "text": [
      "Defaulting to user installation because normal site-packages is not writeable\n",
      "Note: you may need to restart the kernel to use updated packages.\n"
     ]
    },
    {
     "name": "stderr",
     "output_type": "stream",
     "text": [
      "ERROR: Could not find a version that satisfies the requirement request (from versions: none)\n",
      "ERROR: No matching distribution found for request\n"
     ]
    }
   ],
   "source": [
    "pip install request"
   ]
  },
  {
   "cell_type": "code",
   "execution_count": null,
   "id": "033bf39d-6514-4241-b598-91c4f12e25d5",
   "metadata": {},
   "outputs": [],
   "source": []
  }
 ],
 "metadata": {
  "kernelspec": {
   "display_name": "Python 3 (ipykernel)",
   "language": "python",
   "name": "python3"
  },
  "language_info": {
   "codemirror_mode": {
    "name": "ipython",
    "version": 3
   },
   "file_extension": ".py",
   "mimetype": "text/x-python",
   "name": "python",
   "nbconvert_exporter": "python",
   "pygments_lexer": "ipython3",
   "version": "3.11.7"
  }
 },
 "nbformat": 4,
 "nbformat_minor": 5
}
