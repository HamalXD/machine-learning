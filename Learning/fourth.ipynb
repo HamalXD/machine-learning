{
 "cells": [
  {
   "cell_type": "code",
   "execution_count": 5,
   "id": "4ea9e0a1-4ac3-4462-a9a5-c0f2be131410",
   "metadata": {},
   "outputs": [
    {
     "ename": "TypeError",
     "evalue": "greet() takes 0 positional arguments but 1 was given",
     "output_type": "error",
     "traceback": [
      "\u001b[1;31m---------------------------------------------------------------------------\u001b[0m",
      "\u001b[1;31mTypeError\u001b[0m                                 Traceback (most recent call last)",
      "Cell \u001b[1;32mIn[5], line 5\u001b[0m\n\u001b[0;32m      2\u001b[0m \u001b[38;5;28;01mdef\u001b[39;00m \u001b[38;5;21mgreet\u001b[39m():\n\u001b[0;32m      3\u001b[0m     \u001b[38;5;28mprint\u001b[39m(\u001b[38;5;124m\"\u001b[39m\u001b[38;5;124mHello\u001b[39m\u001b[38;5;124m\"\u001b[39m\u001b[38;5;241m.\u001b[39m name)\n\u001b[1;32m----> 5\u001b[0m greet(\u001b[38;5;124m\"\u001b[39m\u001b[38;5;124mHamal\u001b[39m\u001b[38;5;124m\"\u001b[39m)\n\u001b[0;32m      6\u001b[0m greet(\u001b[38;5;124m\"\u001b[39m\u001b[38;5;124mSamman\u001b[39m\u001b[38;5;124m\"\u001b[39m)\n",
      "\u001b[1;31mTypeError\u001b[0m: greet() takes 0 positional arguments but 1 was given"
     ]
    }
   ],
   "source": [
    "#function with parameters\n",
    "def greet():\n",
    "    print(\"Hello\", name)\n",
    "\n",
    "greet(\"Hamal\")\n",
    "greet(\"Samman\")"
   ]
  },
  {
   "cell_type": "code",
   "execution_count": 6,
   "id": "a17a4a85-7de6-4feb-bd69-c5f244ac0896",
   "metadata": {},
   "outputs": [
    {
     "name": "stdout",
     "output_type": "stream",
     "text": [
      "100\n"
     ]
    }
   ],
   "source": [
    "#function with return values\n",
    "def square(a):\n",
    "    return a*a\n",
    "\n",
    "result = square(10)\n",
    "print(result)"
   ]
  },
  {
   "cell_type": "code",
   "execution_count": 8,
   "id": "c3af0b50-5127-4f7c-8403-dd8a6a569bf5",
   "metadata": {},
   "outputs": [
    {
     "name": "stdout",
     "output_type": "stream",
     "text": [
      "Hello World!!!\n",
      "Hello Python!!\n"
     ]
    }
   ],
   "source": [
    "#function with default parameter value\n",
    "def greet_with_default(name=\"World!!!\"):\n",
    "    print(\"Hello\", name)\n",
    "\n",
    "greet_with_default()\n",
    "greet_with_default(name= \"Python!!\")"
   ]
  },
  {
   "cell_type": "code",
   "execution_count": 16,
   "id": "adfec402-e7b7-40fb-9fda-8f6a0a1f1620",
   "metadata": {},
   "outputs": [
    {
     "name": "stdout",
     "output_type": "stream",
     "text": [
      "Minimum number: 1\n",
      "Maximun number: 20\n"
     ]
    }
   ],
   "source": [
    "#function with multiple values: Find the maximun number in a list\n",
    "def min_max(num):\n",
    "    return min(num), max(num)\n",
    "\n",
    "num = [1, 5, 7, 9, 14, 20]\n",
    "min_num, max_num = min_max(num)\n",
    "\n",
    "print(\"Minimum number:\", min_num)\n",
    "print(\"Maximun number:\", max_num)"
   ]
  },
  {
   "cell_type": "code",
   "execution_count": 17,
   "id": "3a41e1c7-fdfa-4164-b8fa-86e1069a0ea5",
   "metadata": {},
   "outputs": [
    {
     "name": "stdout",
     "output_type": "stream",
     "text": [
      "Factorial of 5: 120\n"
     ]
    }
   ],
   "source": [
    "#Recursive function to calculate factorial\n",
    "def factorial(n):\n",
    "    if n ==0:\n",
    "        return 1\n",
    "    else:\n",
    "        return n* factorial(n-1)\n",
    "\n",
    "print(\"Factorial of 5:\", factorial(5))"
   ]
  },
  {
   "cell_type": "code",
   "execution_count": 19,
   "id": "865d06a3-3cf1-43f3-bea5-d6b7b2ad1c9d",
   "metadata": {},
   "outputs": [
    {
     "name": "stdout",
     "output_type": "stream",
     "text": [
      "Sum of 1, 3, 5 and 7: 16\n"
     ]
    }
   ],
   "source": [
    "#function with variable number of arguments\n",
    "def sum(*arg):\n",
    "    total = 0\n",
    "    for num in arg:\n",
    "        total += num\n",
    "    return total\n",
    "print(\"Sum of 1, 3, 5 and 7:\", sum(1,3,5,7))"
   ]
  },
  {
   "cell_type": "code",
   "execution_count": 20,
   "id": "ad27cde3-4be3-4bbf-a14a-6b18e9a175e8",
   "metadata": {},
   "outputs": [
    {
     "name": "stdout",
     "output_type": "stream",
     "text": [
      "100\n"
     ]
    }
   ],
   "source": [
    "#lambda expression or function\n",
    "square = lambda x: x**2\n",
    "print(square(10))"
   ]
  },
  {
   "cell_type": "code",
   "execution_count": 21,
   "id": "a1436cf6-707a-4b04-b169-0bdd0c6afea0",
   "metadata": {},
   "outputs": [
    {
     "name": "stdout",
     "output_type": "stream",
     "text": [
      "30\n"
     ]
    }
   ],
   "source": [
    "#Addition of two numbers\n",
    "sum = lambda x,y: x + y\n",
    "print(sum(10,20))"
   ]
  },
  {
   "cell_type": "code",
   "execution_count": 23,
   "id": "699eb21c-d2eb-4225-a702-cc9dcc1deff6",
   "metadata": {},
   "outputs": [
    {
     "name": "stdout",
     "output_type": "stream",
     "text": [
      "Sorted names based on their characters: ['Raju', 'Samman', 'Ranjan', 'Bhatta', 'Abhaya']\n"
     ]
    }
   ],
   "source": [
    "#sorting based on length(characters) of name\n",
    "names = [\"Samman\", \"Raju\", \"Ranjan\", \"Bhatta\", \"Abhaya\"]\n",
    "sorted_names = sorted(names, key= lambda name:len(name))\n",
    "print(\"Sorted names based on their characters:\", sorted_names)"
   ]
  },
  {
   "cell_type": "code",
   "execution_count": 26,
   "id": "e1837189-2596-466d-bf82-c77f3874f237",
   "metadata": {},
   "outputs": [
    {
     "name": "stdout",
     "output_type": "stream",
     "text": [
      "Filtered even numbers in a list: [2, 8, 6, 20, 24, 26]\n"
     ]
    }
   ],
   "source": [
    "#function to find the even numbers in a list using lambda function\n",
    "numbers = [2, 3, 5, 8, 6, 20, 24, 26, 101, 103]\n",
    "even_numbers = list(filter(lambda x: x % 2 == 0, numbers))\n",
    "print(\"Filtered even numbers in a list:\", even_numbers)"
   ]
  },
  {
   "cell_type": "code",
   "execution_count": 27,
   "id": "b4b34eab-e58b-4af4-bff0-5ef1ae271003",
   "metadata": {},
   "outputs": [
    {
     "name": "stdout",
     "output_type": "stream",
     "text": [
      "Sqaured list of numbers: [1, 4, 9, 16, 25, 36, 49, 64, 81, 100]\n"
     ]
    }
   ],
   "source": [
    "#Mapping a function to a list using lambda function\n",
    "numbers = [1,2,3,4,5,6,7,8,9,10]\n",
    "squared_list = list(map(lambda x : x **2, numbers))\n",
    "print(\"Sqaured list of numbers:\", squared_list)"
   ]
  },
  {
   "cell_type": "code",
   "execution_count": 31,
   "id": "9ef40d95-a355-4784-a65d-ff73c1416601",
   "metadata": {},
   "outputs": [
    {
     "name": "stdout",
     "output_type": "stream",
     "text": [
      "My list after append: [1, 4, 9, 16, 25, 30, 40, 64, 81, 100]\n",
      "My list after pop: [1, 4, 9, 16, 25, 30, 40, 64, 81]\n",
      "Sorted list: [2, 5, 10, 15, 17, 20]\n",
      "Reversed list: [81, 64, 40, 30, 25, 16, 9, 4, 1]\n"
     ]
    }
   ],
   "source": [
    "#List methods\n",
    "my_list = [1, 4, 9, 16, 25, 30, 40, 64, 81]\n",
    "\n",
    "#append()\n",
    "my_list.append(100)\n",
    "print(\"My list after append:\", my_list)\n",
    "\n",
    "#pop(): removes and returns the last element from the list\n",
    "my_list.pop()\n",
    "print(\"My list after pop:\", my_list)\n",
    "\n",
    "#sort()\n",
    "new_list = [10, 5, 15, 2, 17, 20]\n",
    "new_list.sort()\n",
    "print(\"Sorted list:\", new_list)\n",
    "\n",
    "#reverse()\n",
    "my_list.reverse()\n",
    "print(\"Reversed list:\", my_list)"
   ]
  },
  {
   "cell_type": "code",
   "execution_count": 38,
   "id": "94c73b63-a594-4bb8-b6df-95fe1e0c4edc",
   "metadata": {},
   "outputs": [
    {
     "name": "stdout",
     "output_type": "stream",
     "text": [
      "Keys dict_keys(['Apple', 'Banana', 'Cherry', 'Dragon Fruit'])\n",
      "Values dict_values([20, 12, 10, 25])\n",
      "Items dict_items([('Apple', 20), ('Banana', 12), ('Cherry', 10), ('Dragon Fruit', 25)])\n",
      "Get 20\n"
     ]
    }
   ],
   "source": [
    "#Dictionary Method\n",
    "my_dict = {\n",
    "    \"Apple\": 20,\n",
    "    \"Banana\": 12,\n",
    "    \"Cherry\": 10,\n",
    "    \"Dragon Fruit\":25\n",
    "}\n",
    "\n",
    "#key(): return a view of all keys in given dictionary\n",
    "print(\"Keys\", my_dict.keys())\n",
    "\n",
    "#values(): return a view of all values in given dictionary\n",
    "print(\"Values\", my_dict.values())\n",
    "\n",
    "#items: return a value of all key-values pairs in the dictionary\n",
    "print(\"Items\", my_dict.items())\n",
    "\n",
    "#get(): reutn a view of specified key or return default values if not found\n",
    "print(\"Get\", my_dict.get(\"Apple\"))"
   ]
  },
  {
   "cell_type": "code",
   "execution_count": null,
   "id": "d15fc164-e1e2-405c-b9ee-1282c9df99a6",
   "metadata": {},
   "outputs": [],
   "source": []
  }
 ],
 "metadata": {
  "kernelspec": {
   "display_name": "Python 3 (ipykernel)",
   "language": "python",
   "name": "python3"
  },
  "language_info": {
   "codemirror_mode": {
    "name": "ipython",
    "version": 3
   },
   "file_extension": ".py",
   "mimetype": "text/x-python",
   "name": "python",
   "nbconvert_exporter": "python",
   "pygments_lexer": "ipython3",
   "version": "3.11.7"
  }
 },
 "nbformat": 4,
 "nbformat_minor": 5
}
